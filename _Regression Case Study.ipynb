{
 "cells": [
  {
   "cell_type": "markdown",
   "metadata": {},
   "source": [
    "# Regression Case Study: Old car price prediction"
   ]
  },
  {
   "cell_type": "markdown",
   "metadata": {},
   "source": [
    "Problem Statement: Predict the price of a second hand car based on its features\n",
    "* Target Variable: price\n",
    "* Predictor Variables: Age of car, Fuel Type, Kms driven etc."
   ]
  },
  {
   "cell_type": "markdown",
   "metadata": {},
   "source": [
    "### Exploring the data"
   ]
  },
  {
   "cell_type": "code",
   "execution_count": 2,
   "metadata": {
    "scrolled": true
   },
   "outputs": [
    {
     "name": "stdout",
     "output_type": "stream",
     "text": [
      "Shape before deleting duplicate values: (1436, 10)\n",
      "Shape After deleting duplicate values: (1435, 10)\n"
     ]
    },
    {
     "data": {
      "text/html": [
       "<div>\n",
       "<style scoped>\n",
       "    .dataframe tbody tr th:only-of-type {\n",
       "        vertical-align: middle;\n",
       "    }\n",
       "\n",
       "    .dataframe tbody tr th {\n",
       "        vertical-align: top;\n",
       "    }\n",
       "\n",
       "    .dataframe thead th {\n",
       "        text-align: right;\n",
       "    }\n",
       "</style>\n",
       "<table border=\"1\" class=\"dataframe\">\n",
       "  <thead>\n",
       "    <tr style=\"text-align: right;\">\n",
       "      <th></th>\n",
       "      <th>Price</th>\n",
       "      <th>Age</th>\n",
       "      <th>KM</th>\n",
       "      <th>FuelType</th>\n",
       "      <th>HP</th>\n",
       "      <th>MetColor</th>\n",
       "      <th>Automatic</th>\n",
       "      <th>CC</th>\n",
       "      <th>Doors</th>\n",
       "      <th>Weight</th>\n",
       "    </tr>\n",
       "  </thead>\n",
       "  <tbody>\n",
       "    <tr>\n",
       "      <td>0</td>\n",
       "      <td>13500</td>\n",
       "      <td>23.0</td>\n",
       "      <td>46986</td>\n",
       "      <td>Diesel</td>\n",
       "      <td>90</td>\n",
       "      <td>1</td>\n",
       "      <td>0</td>\n",
       "      <td>2000.0</td>\n",
       "      <td>3</td>\n",
       "      <td>1165.0</td>\n",
       "    </tr>\n",
       "    <tr>\n",
       "      <td>1</td>\n",
       "      <td>13750</td>\n",
       "      <td>23.0</td>\n",
       "      <td>72937</td>\n",
       "      <td>Diesel</td>\n",
       "      <td>90</td>\n",
       "      <td>1</td>\n",
       "      <td>0</td>\n",
       "      <td>2000.0</td>\n",
       "      <td>3</td>\n",
       "      <td>1165.0</td>\n",
       "    </tr>\n",
       "    <tr>\n",
       "      <td>2</td>\n",
       "      <td>13950</td>\n",
       "      <td>24.0</td>\n",
       "      <td>41711</td>\n",
       "      <td>Diesel</td>\n",
       "      <td>90</td>\n",
       "      <td>1</td>\n",
       "      <td>0</td>\n",
       "      <td>2000.0</td>\n",
       "      <td>3</td>\n",
       "      <td>1165.0</td>\n",
       "    </tr>\n",
       "    <tr>\n",
       "      <td>3</td>\n",
       "      <td>14950</td>\n",
       "      <td>26.0</td>\n",
       "      <td>48000</td>\n",
       "      <td>Diesel</td>\n",
       "      <td>90</td>\n",
       "      <td>0</td>\n",
       "      <td>0</td>\n",
       "      <td>2000.0</td>\n",
       "      <td>3</td>\n",
       "      <td>1165.0</td>\n",
       "    </tr>\n",
       "    <tr>\n",
       "      <td>4</td>\n",
       "      <td>13750</td>\n",
       "      <td>30.0</td>\n",
       "      <td>38500</td>\n",
       "      <td>Diesel</td>\n",
       "      <td>90</td>\n",
       "      <td>0</td>\n",
       "      <td>0</td>\n",
       "      <td>2000.0</td>\n",
       "      <td>3</td>\n",
       "      <td>1170.0</td>\n",
       "    </tr>\n",
       "  </tbody>\n",
       "</table>\n",
       "</div>"
      ],
      "text/plain": [
       "   Price   Age     KM FuelType  HP  MetColor  Automatic      CC  Doors  Weight\n",
       "0  13500  23.0  46986   Diesel  90         1          0  2000.0      3  1165.0\n",
       "1  13750  23.0  72937   Diesel  90         1          0  2000.0      3  1165.0\n",
       "2  13950  24.0  41711   Diesel  90         1          0  2000.0      3  1165.0\n",
       "3  14950  26.0  48000   Diesel  90         0          0  2000.0      3  1165.0\n",
       "4  13750  30.0  38500   Diesel  90         0          0  2000.0      3  1170.0"
      ]
     },
     "execution_count": 2,
     "metadata": {},
     "output_type": "execute_result"
    }
   ],
   "source": [
    "# Reading the dataset\n",
    "import pandas as pd\n",
    "import numpy as np\n",
    "CarPricesData=pd.read_csv('CarPricesData.csv', encoding='latin')\n",
    "print('Shape before deleting duplicate values:', CarPricesData.shape)\n",
    "\n",
    "# Removing duplicate rows if any\n",
    "CarPricesData=CarPricesData.drop_duplicates()\n",
    "print('Shape After deleting duplicate values:', CarPricesData.shape)\n",
    "\n",
    "CarPricesData.head()\n",
    "# Start observing the Quantitative/Categorical/Qualitative variables"
   ]
  },
  {
   "cell_type": "code",
   "execution_count": 3,
   "metadata": {},
   "outputs": [
    {
     "data": {
      "text/plain": [
       "(1435, 10)"
      ]
     },
     "execution_count": 3,
     "metadata": {},
     "output_type": "execute_result"
    }
   ],
   "source": [
    "# Looking at the number of rows and columns\n",
    "CarPricesData.shape"
   ]
  },
  {
   "cell_type": "code",
   "execution_count": 4,
   "metadata": {},
   "outputs": [
    {
     "name": "stdout",
     "output_type": "stream",
     "text": [
      "<class 'pandas.core.frame.DataFrame'>\n",
      "Int64Index: 1435 entries, 0 to 1435\n",
      "Data columns (total 10 columns):\n",
      "Price        1435 non-null int64\n",
      "Age          1433 non-null float64\n",
      "KM           1435 non-null int64\n",
      "FuelType     1431 non-null object\n",
      "HP           1435 non-null int64\n",
      "MetColor     1435 non-null int64\n",
      "Automatic    1435 non-null int64\n",
      "CC           1433 non-null float64\n",
      "Doors        1435 non-null int64\n",
      "Weight       1433 non-null float64\n",
      "dtypes: float64(3), int64(6), object(1)\n",
      "memory usage: 123.3+ KB\n"
     ]
    }
   ],
   "source": [
    "# Observing the summarized information of data\n",
    "# Data types, Missing values etc.\n",
    "# Remove those variables from data which have too many missing values (Missing Values > 30%)\n",
    "CarPricesData.info()"
   ]
  },
  {
   "cell_type": "code",
   "execution_count": 5,
   "metadata": {
    "scrolled": false
   },
   "outputs": [
    {
     "data": {
      "text/html": [
       "<div>\n",
       "<style scoped>\n",
       "    .dataframe tbody tr th:only-of-type {\n",
       "        vertical-align: middle;\n",
       "    }\n",
       "\n",
       "    .dataframe tbody tr th {\n",
       "        vertical-align: top;\n",
       "    }\n",
       "\n",
       "    .dataframe thead th {\n",
       "        text-align: right;\n",
       "    }\n",
       "</style>\n",
       "<table border=\"1\" class=\"dataframe\">\n",
       "  <thead>\n",
       "    <tr style=\"text-align: right;\">\n",
       "      <th></th>\n",
       "      <th>Price</th>\n",
       "      <th>Age</th>\n",
       "      <th>KM</th>\n",
       "      <th>FuelType</th>\n",
       "      <th>HP</th>\n",
       "      <th>MetColor</th>\n",
       "      <th>Automatic</th>\n",
       "      <th>CC</th>\n",
       "      <th>Doors</th>\n",
       "      <th>Weight</th>\n",
       "    </tr>\n",
       "  </thead>\n",
       "  <tbody>\n",
       "    <tr>\n",
       "      <td>count</td>\n",
       "      <td>1435.000000</td>\n",
       "      <td>1433.000000</td>\n",
       "      <td>1435.000000</td>\n",
       "      <td>1431</td>\n",
       "      <td>1435.000000</td>\n",
       "      <td>1435.000000</td>\n",
       "      <td>1435.000000</td>\n",
       "      <td>1433.000000</td>\n",
       "      <td>1435.000000</td>\n",
       "      <td>1433.000000</td>\n",
       "    </tr>\n",
       "    <tr>\n",
       "      <td>unique</td>\n",
       "      <td>NaN</td>\n",
       "      <td>NaN</td>\n",
       "      <td>NaN</td>\n",
       "      <td>3</td>\n",
       "      <td>NaN</td>\n",
       "      <td>NaN</td>\n",
       "      <td>NaN</td>\n",
       "      <td>NaN</td>\n",
       "      <td>NaN</td>\n",
       "      <td>NaN</td>\n",
       "    </tr>\n",
       "    <tr>\n",
       "      <td>top</td>\n",
       "      <td>NaN</td>\n",
       "      <td>NaN</td>\n",
       "      <td>NaN</td>\n",
       "      <td>Petrol</td>\n",
       "      <td>NaN</td>\n",
       "      <td>NaN</td>\n",
       "      <td>NaN</td>\n",
       "      <td>NaN</td>\n",
       "      <td>NaN</td>\n",
       "      <td>NaN</td>\n",
       "    </tr>\n",
       "    <tr>\n",
       "      <td>freq</td>\n",
       "      <td>NaN</td>\n",
       "      <td>NaN</td>\n",
       "      <td>NaN</td>\n",
       "      <td>1260</td>\n",
       "      <td>NaN</td>\n",
       "      <td>NaN</td>\n",
       "      <td>NaN</td>\n",
       "      <td>NaN</td>\n",
       "      <td>NaN</td>\n",
       "      <td>NaN</td>\n",
       "    </tr>\n",
       "    <tr>\n",
       "      <td>mean</td>\n",
       "      <td>10720.915679</td>\n",
       "      <td>56.020237</td>\n",
       "      <td>68571.782578</td>\n",
       "      <td>NaN</td>\n",
       "      <td>101.491986</td>\n",
       "      <td>0.674564</td>\n",
       "      <td>0.055749</td>\n",
       "      <td>1566.688765</td>\n",
       "      <td>4.032753</td>\n",
       "      <td>1072.314724</td>\n",
       "    </tr>\n",
       "    <tr>\n",
       "      <td>std</td>\n",
       "      <td>3608.732978</td>\n",
       "      <td>18.544948</td>\n",
       "      <td>37491.094553</td>\n",
       "      <td>NaN</td>\n",
       "      <td>14.981408</td>\n",
       "      <td>0.468701</td>\n",
       "      <td>0.229517</td>\n",
       "      <td>186.893360</td>\n",
       "      <td>0.952667</td>\n",
       "      <td>52.283038</td>\n",
       "    </tr>\n",
       "    <tr>\n",
       "      <td>min</td>\n",
       "      <td>4350.000000</td>\n",
       "      <td>1.000000</td>\n",
       "      <td>1.000000</td>\n",
       "      <td>NaN</td>\n",
       "      <td>69.000000</td>\n",
       "      <td>0.000000</td>\n",
       "      <td>0.000000</td>\n",
       "      <td>1300.000000</td>\n",
       "      <td>2.000000</td>\n",
       "      <td>1000.000000</td>\n",
       "    </tr>\n",
       "    <tr>\n",
       "      <td>25%</td>\n",
       "      <td>8450.000000</td>\n",
       "      <td>44.000000</td>\n",
       "      <td>43000.000000</td>\n",
       "      <td>NaN</td>\n",
       "      <td>90.000000</td>\n",
       "      <td>0.000000</td>\n",
       "      <td>0.000000</td>\n",
       "      <td>1400.000000</td>\n",
       "      <td>3.000000</td>\n",
       "      <td>1040.000000</td>\n",
       "    </tr>\n",
       "    <tr>\n",
       "      <td>50%</td>\n",
       "      <td>9900.000000</td>\n",
       "      <td>61.000000</td>\n",
       "      <td>63451.000000</td>\n",
       "      <td>NaN</td>\n",
       "      <td>110.000000</td>\n",
       "      <td>1.000000</td>\n",
       "      <td>0.000000</td>\n",
       "      <td>1600.000000</td>\n",
       "      <td>4.000000</td>\n",
       "      <td>1070.000000</td>\n",
       "    </tr>\n",
       "    <tr>\n",
       "      <td>75%</td>\n",
       "      <td>11950.000000</td>\n",
       "      <td>70.000000</td>\n",
       "      <td>87041.500000</td>\n",
       "      <td>NaN</td>\n",
       "      <td>110.000000</td>\n",
       "      <td>1.000000</td>\n",
       "      <td>0.000000</td>\n",
       "      <td>1600.000000</td>\n",
       "      <td>5.000000</td>\n",
       "      <td>1085.000000</td>\n",
       "    </tr>\n",
       "    <tr>\n",
       "      <td>max</td>\n",
       "      <td>32500.000000</td>\n",
       "      <td>80.000000</td>\n",
       "      <td>243000.000000</td>\n",
       "      <td>NaN</td>\n",
       "      <td>192.000000</td>\n",
       "      <td>1.000000</td>\n",
       "      <td>1.000000</td>\n",
       "      <td>2000.000000</td>\n",
       "      <td>5.000000</td>\n",
       "      <td>1615.000000</td>\n",
       "    </tr>\n",
       "  </tbody>\n",
       "</table>\n",
       "</div>"
      ],
      "text/plain": [
       "               Price          Age             KM FuelType           HP  \\\n",
       "count    1435.000000  1433.000000    1435.000000     1431  1435.000000   \n",
       "unique           NaN          NaN            NaN        3          NaN   \n",
       "top              NaN          NaN            NaN   Petrol          NaN   \n",
       "freq             NaN          NaN            NaN     1260          NaN   \n",
       "mean    10720.915679    56.020237   68571.782578      NaN   101.491986   \n",
       "std      3608.732978    18.544948   37491.094553      NaN    14.981408   \n",
       "min      4350.000000     1.000000       1.000000      NaN    69.000000   \n",
       "25%      8450.000000    44.000000   43000.000000      NaN    90.000000   \n",
       "50%      9900.000000    61.000000   63451.000000      NaN   110.000000   \n",
       "75%     11950.000000    70.000000   87041.500000      NaN   110.000000   \n",
       "max     32500.000000    80.000000  243000.000000      NaN   192.000000   \n",
       "\n",
       "           MetColor    Automatic           CC        Doors       Weight  \n",
       "count   1435.000000  1435.000000  1433.000000  1435.000000  1433.000000  \n",
       "unique          NaN          NaN          NaN          NaN          NaN  \n",
       "top             NaN          NaN          NaN          NaN          NaN  \n",
       "freq            NaN          NaN          NaN          NaN          NaN  \n",
       "mean       0.674564     0.055749  1566.688765     4.032753  1072.314724  \n",
       "std        0.468701     0.229517   186.893360     0.952667    52.283038  \n",
       "min        0.000000     0.000000  1300.000000     2.000000  1000.000000  \n",
       "25%        0.000000     0.000000  1400.000000     3.000000  1040.000000  \n",
       "50%        1.000000     0.000000  1600.000000     4.000000  1070.000000  \n",
       "75%        1.000000     0.000000  1600.000000     5.000000  1085.000000  \n",
       "max        1.000000     1.000000  2000.000000     5.000000  1615.000000  "
      ]
     },
     "execution_count": 5,
     "metadata": {},
     "output_type": "execute_result"
    }
   ],
   "source": [
    "# Looking at the statistial distribution of the data\n",
    "# Observe that the min values of Age and KM column is an outlier\n",
    "CarPricesData.describe(include='all')"
   ]
  },
  {
   "cell_type": "markdown",
   "metadata": {},
   "source": [
    "### Observe the distribution of target variable\n",
    "* If target variable's distribution is too skewed then the predictive modeling will not be possible.\n",
    "* Bell curve is desirable but slightly positive skew or negative skew is also fine\n",
    "* When performing Regression, make sure there is no Zeros in the target variable, as it will cause divide by Zero exeption later on for accuracy calculation"
   ]
  },
  {
   "cell_type": "code",
   "execution_count": 6,
   "metadata": {},
   "outputs": [
    {
     "data": {
      "text/plain": [
       "array([[<matplotlib.axes._subplots.AxesSubplot object at 0x11f626ed0>]],\n",
       "      dtype=object)"
      ]
     },
     "execution_count": 6,
     "metadata": {},
     "output_type": "execute_result"
    },
    {
     "data": {
      "image/png": "[encoded data removed]",
      "text/plain": [
       "<Figure size 720x216 with 1 Axes>"
      ]
     },
     "metadata": {
      "needs_background": "light"
     },
     "output_type": "display_data"
    }
   ],
   "source": [
    "%matplotlib inline\n",
    "CarPricesData.hist(['Price'], figsize=[10,3])\n",
    "# Observe the outlier Prices"
   ]
  },
  {
   "cell_type": "code",
   "execution_count": 7,
   "metadata": {},
   "outputs": [
    {
     "data": {
      "text/plain": [
       "Price         236\n",
       "Age            77\n",
       "KM           1263\n",
       "FuelType        3\n",
       "HP             12\n",
       "MetColor        2\n",
       "Automatic       2\n",
       "CC             12\n",
       "Doors           4\n",
       "Weight         59\n",
       "dtype: int64"
      ]
     },
     "execution_count": 7,
     "metadata": {},
     "output_type": "execute_result"
    }
   ],
   "source": [
    "# Finging unique values for each column\n",
    "# TO understand which column is categorical and which one is Continuous\n",
    "CarPricesData.nunique()"
   ]
  },
  {
   "cell_type": "markdown",
   "metadata": {},
   "source": [
    "### Visualize distribution of all the categorical Predictor variables in the data using bar plots\n",
    "We can spot a categorical variable in the data by looking at the unique values in them. Typically a categorical variable contains less than 20 Unique values AND there is repetition of values, which means the data can be grouped by those unique values."
   ]
  },
  {
   "cell_type": "code",
   "execution_count": 8,
   "metadata": {},
   "outputs": [
    {
     "data": {
      "text/plain": [
       "FuelType\n",
       "CNG         17\n",
       "Diesel     154\n",
       "Petrol    1260\n",
       "dtype: int64"
      ]
     },
     "execution_count": 8,
     "metadata": {},
     "output_type": "execute_result"
    }
   ],
   "source": [
    "CarPricesData.groupby('FuelType').size()"
   ]
  },
  {
   "cell_type": "code",
   "execution_count": 9,
   "metadata": {
    "scrolled": true
   },
   "outputs": [
    {
     "data": {
      "image/png": "[encoded data removed]",
      "text/plain": [
       "<Figure size 1296x360 with 4 Axes>"
      ]
     },
     "metadata": {
      "needs_background": "light"
     },
     "output_type": "display_data"
    }
   ],
   "source": [
    "# Plotting multiple bar charts for categorical variables\n",
    "def PlotBarCharts(inpData, colsToPlot):\n",
    "    %matplotlib inline\n",
    "    \n",
    "    import matplotlib.pyplot as plt\n",
    "    \n",
    "    # Generating multiple subplots\n",
    "    fig, subPlot=plt.subplots(nrows=1, ncols=len(colsToPlot), figsize=(18,5))\n",
    "    fig.suptitle('Bar charts of: '+ str(colsToPlot))\n",
    "\n",
    "    for colName, plotNumber in zip(colsToPlot, range(len(colsToPlot))):\n",
    "        inpData.groupby(colName).size().plot(kind='bar',ax=subPlot[plotNumber])\n",
    "\n",
    "# Calling the function\n",
    "PlotBarCharts(inpData=CarPricesData, colsToPlot=['FuelType', 'HP','Automatic','Doors'])"
   ]
  },
  {
   "cell_type": "code",
   "execution_count": null,
   "metadata": {},
   "outputs": [],
   "source": []
  },
  {
   "cell_type": "markdown",
   "metadata": {},
   "source": [
    "### Visualize distribution of all the numeric Predictor variables in the data using histograms"
   ]
  },
  {
   "cell_type": "code",
   "execution_count": 10,
   "metadata": {
    "scrolled": true
   },
   "outputs": [
    {
     "data": {
      "text/plain": [
       "array([[<matplotlib.axes._subplots.AxesSubplot object at 0x12025d790>,\n",
       "        <matplotlib.axes._subplots.AxesSubplot object at 0x1204e2910>],\n",
       "       [<matplotlib.axes._subplots.AxesSubplot object at 0x120692f90>,\n",
       "        <matplotlib.axes._subplots.AxesSubplot object at 0x1206d2850>]],\n",
       "      dtype=object)"
      ]
     },
     "execution_count": 10,
     "metadata": {},
     "output_type": "execute_result"
    },
    {
     "data": {
      "image/png": "[encoded data removed]",
      "text/plain": [
       "<Figure size 1296x576 with 4 Axes>"
      ]
     },
     "metadata": {
      "needs_background": "light"
     },
     "output_type": "display_data"
    }
   ],
   "source": [
    "# Plotting histograms of multiple columns together\n",
    "CarPricesData.hist(['Price','Age', 'KM', 'Weight'], figsize=(18,8))"
   ]
  },
  {
   "cell_type": "code",
   "execution_count": null,
   "metadata": {},
   "outputs": [],
   "source": []
  },
  {
   "cell_type": "markdown",
   "metadata": {},
   "source": [
    "## Visual Exploration of relationship between variables\n",
    "* Continuous Vs Continuous ---- Scatter Plot\n",
    "* Continuous Vs Categorical---- Bar Plot, Box Plot\n",
    "* Categorical Vs Categorical---- Bar Plot"
   ]
  },
  {
   "cell_type": "markdown",
   "metadata": {},
   "source": [
    "### Relationship exploration: Continuous Vs Continuous\n",
    "When the target variable is continuous and the predictor variable is also continuous we analyze the relation using scatter plot and measure the strength of relation using correlation"
   ]
  },
  {
   "cell_type": "markdown",
   "metadata": {},
   "source": [
    "#### Generating graphs for all numeric columns in data\n",
    "* This gives a birds eye view about the numeric variables which looks correlated with Target Variable \"Price\"\n",
    "* Do not run scatter_matrix() command for more than 10 variables at a time for performance issues"
   ]
  },
  {
   "cell_type": "code",
   "execution_count": 12,
   "metadata": {
    "scrolled": true
   },
   "outputs": [
    {
     "data": {
      "text/plain": [
       "<matplotlib.axes._subplots.AxesSubplot at 0x1202a4c50>"
      ]
     },
     "execution_count": 12,
     "metadata": {},
     "output_type": "execute_result"
    },
    {
     "data": {
      "image/png": "[encoded data removed]",
      "text/plain": [
       "<Figure size 360x288 with 1 Axes>"
      ]
     },
     "metadata": {
      "needs_background": "light"
     },
     "output_type": "display_data"
    }
   ],
   "source": [
    "# Taling closer look at the Scatter plot between Price Vs Age\n",
    "CarPricesData.plot.scatter(x='Age', y='Price', figsize=(5,4), marker='o', color='blue')"
   ]
  },
  {
   "cell_type": "code",
   "execution_count": 13,
   "metadata": {
    "scrolled": true
   },
   "outputs": [
    {
     "data": {
      "text/plain": [
       "<matplotlib.axes._subplots.AxesSubplot at 0x123311450>"
      ]
     },
     "execution_count": 13,
     "metadata": {},
     "output_type": "execute_result"
    },
    {
     "data": {
      "image/png": "[encoded data removed]",
      "text/plain": [
       "<Figure size 1296x360 with 3 Axes>"
      ]
     },
     "metadata": {
      "needs_background": "light"
     },
     "output_type": "display_data"
    }
   ],
   "source": [
    "import matplotlib.pyplot as plt\n",
    "\n",
    "# Generating multiple subplots\n",
    "fig, subPlot=plt.subplots(nrows=1, ncols=3, figsize=(18,5))\n",
    "\n",
    "# Creating the super title of the charts\n",
    "fig.suptitle('Price Vs AGE, KM and Weight')\n",
    "\n",
    "# Generating multiple scatter charts\n",
    "CarPricesData.plot.scatter(x='Age', y='Price', marker='o', color='blue', ax=subPlot[0])\n",
    "CarPricesData.plot.scatter(x='KM', y='Price', marker='o', color='blue', ax=subPlot[1])\n",
    "CarPricesData.plot.scatter(x='Weight', y='Price', marker='o', color='blue', ax=subPlot[2])"
   ]
  },
  {
   "cell_type": "markdown",
   "metadata": {},
   "source": [
    "#### Outlier Observation:\n",
    "* There are few outliers in the data clearly visible for Price > 30,000\n",
    "* This will bias the regression model, hence, if the number of records are less, it is advisable to remove these records or replace it with a logical value which is nearby to similar records according to the data"
   ]
  },
  {
   "cell_type": "code",
   "execution_count": 14,
   "metadata": {},
   "outputs": [
    {
     "data": {
      "text/html": [
       "<div>\n",
       "<style scoped>\n",
       "    .dataframe tbody tr th:only-of-type {\n",
       "        vertical-align: middle;\n",
       "    }\n",
       "\n",
       "    .dataframe tbody tr th {\n",
       "        vertical-align: top;\n",
       "    }\n",
       "\n",
       "    .dataframe thead th {\n",
       "        text-align: right;\n",
       "    }\n",
       "</style>\n",
       "<table border=\"1\" class=\"dataframe\">\n",
       "  <thead>\n",
       "    <tr style=\"text-align: right;\">\n",
       "      <th></th>\n",
       "      <th>Price</th>\n",
       "      <th>Age</th>\n",
       "      <th>KM</th>\n",
       "      <th>FuelType</th>\n",
       "      <th>HP</th>\n",
       "      <th>MetColor</th>\n",
       "      <th>Automatic</th>\n",
       "      <th>CC</th>\n",
       "      <th>Doors</th>\n",
       "      <th>Weight</th>\n",
       "    </tr>\n",
       "  </thead>\n",
       "  <tbody>\n",
       "    <tr>\n",
       "      <td>109</td>\n",
       "      <td>32500</td>\n",
       "      <td>4.0</td>\n",
       "      <td>1</td>\n",
       "      <td>Diesel</td>\n",
       "      <td>116</td>\n",
       "      <td>0</td>\n",
       "      <td>0</td>\n",
       "      <td>2000.0</td>\n",
       "      <td>5</td>\n",
       "      <td>1480.0</td>\n",
       "    </tr>\n",
       "    <tr>\n",
       "      <td>110</td>\n",
       "      <td>31000</td>\n",
       "      <td>4.0</td>\n",
       "      <td>4000</td>\n",
       "      <td>Diesel</td>\n",
       "      <td>116</td>\n",
       "      <td>1</td>\n",
       "      <td>0</td>\n",
       "      <td>2000.0</td>\n",
       "      <td>5</td>\n",
       "      <td>1480.0</td>\n",
       "    </tr>\n",
       "    <tr>\n",
       "      <td>111</td>\n",
       "      <td>31275</td>\n",
       "      <td>4.0</td>\n",
       "      <td>1500</td>\n",
       "      <td>Diesel</td>\n",
       "      <td>116</td>\n",
       "      <td>1</td>\n",
       "      <td>0</td>\n",
       "      <td>2000.0</td>\n",
       "      <td>5</td>\n",
       "      <td>1480.0</td>\n",
       "    </tr>\n",
       "  </tbody>\n",
       "</table>\n",
       "</div>"
      ],
      "text/plain": [
       "     Price  Age    KM FuelType   HP  MetColor  Automatic      CC  Doors  \\\n",
       "109  32500  4.0     1   Diesel  116         0          0  2000.0      5   \n",
       "110  31000  4.0  4000   Diesel  116         1          0  2000.0      5   \n",
       "111  31275  4.0  1500   Diesel  116         1          0  2000.0      5   \n",
       "\n",
       "     Weight  \n",
       "109  1480.0  \n",
       "110  1480.0  \n",
       "111  1480.0  "
      ]
     },
     "execution_count": 14,
     "metadata": {},
     "output_type": "execute_result"
    }
   ],
   "source": [
    "# Finding those rows where price column has outliers\n",
    "CarPricesData[CarPricesData['Price']>30000]"
   ]
  },
  {
   "cell_type": "code",
   "execution_count": 15,
   "metadata": {},
   "outputs": [],
   "source": [
    "# Code to delete the outlier records from the data\n",
    "#print('Shape before outlier removal', CarPricesData.shape)\n",
    "#CarPricesData=CarPricesData[CarPricesData['Price']<30000]\n",
    "#print('Shape after outlier removal', CarPricesData.shape)"
   ]
  },
  {
   "cell_type": "code",
   "execution_count": 16,
   "metadata": {
    "scrolled": true
   },
   "outputs": [
    {
     "data": {
      "text/plain": [
       "count     1435.000000\n",
       "mean     10707.135192\n",
       "std       3540.784461\n",
       "min       4350.000000\n",
       "25%       8450.000000\n",
       "50%       9900.000000\n",
       "75%      11950.000000\n",
       "max      25000.000000\n",
       "Name: Price, dtype: float64"
      ]
     },
     "execution_count": 16,
     "metadata": {},
     "output_type": "execute_result"
    }
   ],
   "source": [
    "# Code to replace the outlier values with a logical value\n",
    "CarPricesData['Price'][CarPricesData['Price']>30000]=25000\n",
    "CarPricesData['Price'].describe()"
   ]
  },
  {
   "cell_type": "markdown",
   "metadata": {},
   "source": [
    "#### Scatter plot after Outlier treatment"
   ]
  },
  {
   "cell_type": "code",
   "execution_count": 17,
   "metadata": {},
   "outputs": [
    {
     "data": {
      "text/plain": [
       "<matplotlib.axes._subplots.AxesSubplot at 0x11f136290>"
      ]
     },
     "execution_count": 17,
     "metadata": {},
     "output_type": "execute_result"
    },
    {
     "data": {
      "image/png": "[encoded data removed]",
      "text/plain": [
       "<Figure size 1296x360 with 3 Axes>"
      ]
     },
     "metadata": {
      "needs_background": "light"
     },
     "output_type": "display_data"
    }
   ],
   "source": [
    "import matplotlib.pyplot as plt\n",
    "\n",
    "# Generating multiple subplots\n",
    "fig, subPlot=plt.subplots(nrows=1, ncols=3, figsize=(18,5))\n",
    "\n",
    "# Creating the super title of the charts\n",
    "fig.suptitle('Price Vs AGE, KM and Weight')\n",
    "\n",
    "# Generating multiple scatter charts again after the outlier treatment\n",
    "CarPricesData.plot.scatter(x='Age', y='Price', marker='o', color='blue', ax=subPlot[0])\n",
    "CarPricesData.plot.scatter(x='KM', y='Price', marker='o', color='blue', ax=subPlot[1])\n",
    "CarPricesData.plot.scatter(x='Weight', y='Price', marker='o', color='blue', ax=subPlot[2])"
   ]
  },
  {
   "cell_type": "markdown",
   "metadata": {},
   "source": [
    "### Statistical Feature Selection (Continuous Vs Continuous) using Correlation Marix\n",
    "Finding the top numeric continuous variables which correlate with the target variable"
   ]
  },
  {
   "cell_type": "code",
   "execution_count": 18,
   "metadata": {
    "scrolled": true
   },
   "outputs": [
    {
     "data": {
      "text/html": [
       "<div>\n",
       "<style scoped>\n",
       "    .dataframe tbody tr th:only-of-type {\n",
       "        vertical-align: middle;\n",
       "    }\n",
       "\n",
       "    .dataframe tbody tr th {\n",
       "        vertical-align: top;\n",
       "    }\n",
       "\n",
       "    .dataframe thead th {\n",
       "        text-align: right;\n",
       "    }\n",
       "</style>\n",
       "<table border=\"1\" class=\"dataframe\">\n",
       "  <thead>\n",
       "    <tr style=\"text-align: right;\">\n",
       "      <th></th>\n",
       "      <th>Price</th>\n",
       "      <th>Age</th>\n",
       "      <th>KM</th>\n",
       "      <th>HP</th>\n",
       "      <th>MetColor</th>\n",
       "      <th>Automatic</th>\n",
       "      <th>CC</th>\n",
       "      <th>Doors</th>\n",
       "      <th>Weight</th>\n",
       "    </tr>\n",
       "  </thead>\n",
       "  <tbody>\n",
       "    <tr>\n",
       "      <td>Price</td>\n",
       "      <td>1.000000</td>\n",
       "      <td>-0.881867</td>\n",
       "      <td>-0.573399</td>\n",
       "      <td>0.316391</td>\n",
       "      <td>0.110116</td>\n",
       "      <td>0.035525</td>\n",
       "      <td>0.153260</td>\n",
       "      <td>0.183173</td>\n",
       "      <td>0.556452</td>\n",
       "    </tr>\n",
       "    <tr>\n",
       "      <td>Age</td>\n",
       "      <td>-0.881867</td>\n",
       "      <td>1.000000</td>\n",
       "      <td>0.503485</td>\n",
       "      <td>-0.156209</td>\n",
       "      <td>-0.105895</td>\n",
       "      <td>0.030887</td>\n",
       "      <td>-0.130827</td>\n",
       "      <td>-0.147008</td>\n",
       "      <td>-0.465909</td>\n",
       "    </tr>\n",
       "    <tr>\n",
       "      <td>KM</td>\n",
       "      <td>-0.573399</td>\n",
       "      <td>0.503485</td>\n",
       "      <td>1.000000</td>\n",
       "      <td>-0.332904</td>\n",
       "      <td>-0.079864</td>\n",
       "      <td>-0.082168</td>\n",
       "      <td>0.305182</td>\n",
       "      <td>-0.035193</td>\n",
       "      <td>-0.024290</td>\n",
       "    </tr>\n",
       "    <tr>\n",
       "      <td>HP</td>\n",
       "      <td>0.316391</td>\n",
       "      <td>-0.156209</td>\n",
       "      <td>-0.332904</td>\n",
       "      <td>1.000000</td>\n",
       "      <td>0.058272</td>\n",
       "      <td>0.013313</td>\n",
       "      <td>0.048389</td>\n",
       "      <td>0.091803</td>\n",
       "      <td>0.087472</td>\n",
       "    </tr>\n",
       "    <tr>\n",
       "      <td>MetColor</td>\n",
       "      <td>0.110116</td>\n",
       "      <td>-0.105895</td>\n",
       "      <td>-0.079864</td>\n",
       "      <td>0.058272</td>\n",
       "      <td>1.000000</td>\n",
       "      <td>-0.019222</td>\n",
       "      <td>0.034512</td>\n",
       "      <td>0.084796</td>\n",
       "      <td>0.056026</td>\n",
       "    </tr>\n",
       "    <tr>\n",
       "      <td>Automatic</td>\n",
       "      <td>0.035525</td>\n",
       "      <td>0.030887</td>\n",
       "      <td>-0.082168</td>\n",
       "      <td>0.013313</td>\n",
       "      <td>-0.019222</td>\n",
       "      <td>1.000000</td>\n",
       "      <td>-0.069324</td>\n",
       "      <td>-0.027492</td>\n",
       "      <td>0.058379</td>\n",
       "    </tr>\n",
       "    <tr>\n",
       "      <td>CC</td>\n",
       "      <td>0.153260</td>\n",
       "      <td>-0.130827</td>\n",
       "      <td>0.305182</td>\n",
       "      <td>0.048389</td>\n",
       "      <td>0.034512</td>\n",
       "      <td>-0.069324</td>\n",
       "      <td>1.000000</td>\n",
       "      <td>0.126476</td>\n",
       "      <td>0.650142</td>\n",
       "    </tr>\n",
       "    <tr>\n",
       "      <td>Doors</td>\n",
       "      <td>0.183173</td>\n",
       "      <td>-0.147008</td>\n",
       "      <td>-0.035193</td>\n",
       "      <td>0.091803</td>\n",
       "      <td>0.084796</td>\n",
       "      <td>-0.027492</td>\n",
       "      <td>0.126476</td>\n",
       "      <td>1.000000</td>\n",
       "      <td>0.301438</td>\n",
       "    </tr>\n",
       "    <tr>\n",
       "      <td>Weight</td>\n",
       "      <td>0.556452</td>\n",
       "      <td>-0.465909</td>\n",
       "      <td>-0.024290</td>\n",
       "      <td>0.087472</td>\n",
       "      <td>0.056026</td>\n",
       "      <td>0.058379</td>\n",
       "      <td>0.650142</td>\n",
       "      <td>0.301438</td>\n",
       "      <td>1.000000</td>\n",
       "    </tr>\n",
       "  </tbody>\n",
       "</table>\n",
       "</div>"
      ],
      "text/plain": [
       "              Price       Age        KM        HP  MetColor  Automatic  \\\n",
       "Price      1.000000 -0.881867 -0.573399  0.316391  0.110116   0.035525   \n",
       "Age       -0.881867  1.000000  0.503485 -0.156209 -0.105895   0.030887   \n",
       "KM        -0.573399  0.503485  1.000000 -0.332904 -0.079864  -0.082168   \n",
       "HP         0.316391 -0.156209 -0.332904  1.000000  0.058272   0.013313   \n",
       "MetColor   0.110116 -0.105895 -0.079864  0.058272  1.000000  -0.019222   \n",
       "Automatic  0.035525  0.030887 -0.082168  0.013313 -0.019222   1.000000   \n",
       "CC         0.153260 -0.130827  0.305182  0.048389  0.034512  -0.069324   \n",
       "Doors      0.183173 -0.147008 -0.035193  0.091803  0.084796  -0.027492   \n",
       "Weight     0.556452 -0.465909 -0.024290  0.087472  0.056026   0.058379   \n",
       "\n",
       "                 CC     Doors    Weight  \n",
       "Price      0.153260  0.183173  0.556452  \n",
       "Age       -0.130827 -0.147008 -0.465909  \n",
       "KM         0.305182 -0.035193 -0.024290  \n",
       "HP         0.048389  0.091803  0.087472  \n",
       "MetColor   0.034512  0.084796  0.056026  \n",
       "Automatic -0.069324 -0.027492  0.058379  \n",
       "CC         1.000000  0.126476  0.650142  \n",
       "Doors      0.126476  1.000000  0.301438  \n",
       "Weight     0.650142  0.301438  1.000000  "
      ]
     },
     "execution_count": 18,
     "metadata": {},
     "output_type": "execute_result"
    }
   ],
   "source": [
    "# Creating the correlation matrix\n",
    "CorrelationData=CarPricesData.corr()\n",
    "CorrelationData"
   ]
  },
  {
   "cell_type": "code",
   "execution_count": 19,
   "metadata": {},
   "outputs": [
    {
     "data": {
      "text/plain": [
       "Price     1.000000\n",
       "Age      -0.881867\n",
       "KM       -0.573399\n",
       "Weight    0.556452\n",
       "Name: Price, dtype: float64"
      ]
     },
     "execution_count": 19,
     "metadata": {},
     "output_type": "execute_result"
    }
   ],
   "source": [
    "# Filtering only those columns where absolute correlation > 0.5 with Price\n",
    "CorrelationData['Price'][abs(CorrelationData['Price']) > 0.5 ]"
   ]
  },
  {
   "cell_type": "markdown",
   "metadata": {
    "collapsed": true
   },
   "source": [
    "### Relationship exploration: Continuous Vs Categorical\n",
    "When the target variable is continuous and the predictor variable is categorical we analyze the relation using bar plots and measure the strength of relation using Anova test"
   ]
  },
  {
   "cell_type": "markdown",
   "metadata": {
    "collapsed": true
   },
   "source": [
    "#### Visualizing the relation between Price and Fuel Type using bar chart\n",
    "We Group by and keep categorical variable in the X-Axis and the continuous variable in the Y-Axis"
   ]
  },
  {
   "cell_type": "code",
   "execution_count": 20,
   "metadata": {},
   "outputs": [
    {
     "data": {
      "text/html": [
       "<div>\n",
       "<style scoped>\n",
       "    .dataframe tbody tr th:only-of-type {\n",
       "        vertical-align: middle;\n",
       "    }\n",
       "\n",
       "    .dataframe tbody tr th {\n",
       "        vertical-align: top;\n",
       "    }\n",
       "\n",
       "    .dataframe thead th {\n",
       "        text-align: right;\n",
       "    }\n",
       "</style>\n",
       "<table border=\"1\" class=\"dataframe\">\n",
       "  <thead>\n",
       "    <tr style=\"text-align: right;\">\n",
       "      <th></th>\n",
       "      <th>Price</th>\n",
       "      <th>Age</th>\n",
       "      <th>KM</th>\n",
       "      <th>HP</th>\n",
       "      <th>MetColor</th>\n",
       "      <th>Automatic</th>\n",
       "      <th>CC</th>\n",
       "      <th>Doors</th>\n",
       "      <th>Weight</th>\n",
       "    </tr>\n",
       "    <tr>\n",
       "      <th>FuelType</th>\n",
       "      <th></th>\n",
       "      <th></th>\n",
       "      <th></th>\n",
       "      <th></th>\n",
       "      <th></th>\n",
       "      <th></th>\n",
       "      <th></th>\n",
       "      <th></th>\n",
       "      <th></th>\n",
       "    </tr>\n",
       "  </thead>\n",
       "  <tbody>\n",
       "    <tr>\n",
       "      <td>CNG</td>\n",
       "      <td>9421.176471</td>\n",
       "      <td>56.352941</td>\n",
       "      <td>117865.588235</td>\n",
       "      <td>110.000000</td>\n",
       "      <td>0.764706</td>\n",
       "      <td>0.058824</td>\n",
       "      <td>1599.882353</td>\n",
       "      <td>4.117647</td>\n",
       "      <td>1097.823529</td>\n",
       "    </tr>\n",
       "    <tr>\n",
       "      <td>Diesel</td>\n",
       "      <td>11077.474026</td>\n",
       "      <td>51.000000</td>\n",
       "      <td>112618.649351</td>\n",
       "      <td>78.292208</td>\n",
       "      <td>0.655844</td>\n",
       "      <td>0.000000</td>\n",
       "      <td>1976.396104</td>\n",
       "      <td>4.097403</td>\n",
       "      <td>1157.350649</td>\n",
       "    </tr>\n",
       "    <tr>\n",
       "      <td>Petrol</td>\n",
       "      <td>10673.649206</td>\n",
       "      <td>56.629571</td>\n",
       "      <td>62554.623810</td>\n",
       "      <td>104.139683</td>\n",
       "      <td>0.675397</td>\n",
       "      <td>0.061905</td>\n",
       "      <td>1516.058824</td>\n",
       "      <td>4.025397</td>\n",
       "      <td>1061.539746</td>\n",
       "    </tr>\n",
       "  </tbody>\n",
       "</table>\n",
       "</div>"
      ],
      "text/plain": [
       "                 Price        Age             KM          HP  MetColor  \\\n",
       "FuelType                                                                 \n",
       "CNG        9421.176471  56.352941  117865.588235  110.000000  0.764706   \n",
       "Diesel    11077.474026  51.000000  112618.649351   78.292208  0.655844   \n",
       "Petrol    10673.649206  56.629571   62554.623810  104.139683  0.675397   \n",
       "\n",
       "          Automatic           CC     Doors       Weight  \n",
       "FuelType                                                 \n",
       "CNG        0.058824  1599.882353  4.117647  1097.823529  \n",
       "Diesel     0.000000  1976.396104  4.097403  1157.350649  \n",
       "Petrol     0.061905  1516.058824  4.025397  1061.539746  "
      ]
     },
     "execution_count": 20,
     "metadata": {},
     "output_type": "execute_result"
    }
   ],
   "source": [
    "# Grouping by Fuel type to find the aggregated values\n",
    "GroupedData=CarPricesData.groupby(['FuelType'])\n",
    "\n",
    "# Printing the aggregated values\n",
    "#GroupedData.size()\n",
    "#GroupedData.sum()\n",
    "#GroupedData.count()\n",
    "GroupedData.mean()"
   ]
  },
  {
   "cell_type": "code",
   "execution_count": 21,
   "metadata": {
    "scrolled": true
   },
   "outputs": [
    {
     "data": {
      "text/plain": [
       "<matplotlib.axes._subplots.AxesSubplot at 0x122d4bfd0>"
      ]
     },
     "execution_count": 21,
     "metadata": {},
     "output_type": "execute_result"
    },
    {
     "data": {
      "image/png": "[encoded data removed]",
      "text/plain": [
       "<Figure size 432x288 with 1 Axes>"
      ]
     },
     "metadata": {
      "needs_background": "light"
     },
     "output_type": "display_data"
    }
   ],
   "source": [
    "# Creating the graph with Price\n",
    "GroupedData.mean()['Price'].plot(kind='bar', title='Average Price for Each Fuel Type', color=['green','lightblue','blue'])"
   ]
  },
  {
   "cell_type": "code",
   "execution_count": 22,
   "metadata": {
    "scrolled": true
   },
   "outputs": [
    {
     "data": {
      "text/plain": [
       "<matplotlib.axes._subplots.AxesSubplot at 0x120817290>"
      ]
     },
     "execution_count": 22,
     "metadata": {},
     "output_type": "execute_result"
    },
    {
     "data": {
      "image/png": "[encoded data removed]",
      "text/plain": [
       "<Figure size 720x288 with 1 Axes>"
      ]
     },
     "metadata": {
      "needs_background": "light"
     },
     "output_type": "display_data"
    }
   ],
   "source": [
    "# Looking at the variances in Price by each fuel type in box plot\n",
    "# IF the distribution of each type is similar, it gives a hint that there is no correlation\n",
    "# Between the categorical and the numeric variable\n",
    "CarPricesData.boxplot(column='Price', by='FuelType', figsize=(10,4))"
   ]
  },
  {
   "cell_type": "markdown",
   "metadata": {},
   "source": [
    "### Statistical Feature Selection (Continuous Vs Categorical) using ANOVA test\n",
    "Analysis of variance(ANOVA) is performed to check if there is any relationship between the given continuous and categorical variable\n",
    "* Assumption(H0): There is NO relation between the given variables (i.e. The average(mean) values of the numeric Target variable is same for all the groups in the categorical predictor variable)\n",
    "* ANOVA Test result: Probability of H0 being true"
   ]
  },
  {
   "cell_type": "code",
   "execution_count": 23,
   "metadata": {},
   "outputs": [
    {
     "data": {
      "text/plain": [
       "FuelType\n",
       "CNG       [7750, 11950, 11950, 14950, 12950, 8500, 9250,...\n",
       "Diesel    [13500, 13750, 13950, 14950, 13750, 12950, 169...\n",
       "Petrol    [21500, 20950, 19950, 19600, 21500, 22000, 227...\n",
       "Name: Price, dtype: object"
      ]
     },
     "execution_count": 23,
     "metadata": {},
     "output_type": "execute_result"
    }
   ],
   "source": [
    "CarPricesData.groupby('FuelType')['Price'].apply(list)"
   ]
  },
  {
   "cell_type": "code",
   "execution_count": 24,
   "metadata": {
    "scrolled": true
   },
   "outputs": [
    {
     "name": "stdout",
     "output_type": "stream",
     "text": [
      "P-Value for Anova is:  0.13135816358106872\n"
     ]
    }
   ],
   "source": [
    "# f_oneway() function takes the group data as input and returns F-statistic and P-value\n",
    "from scipy.stats import f_oneway\n",
    "\n",
    "\n",
    "# Running the one-way anova test between Price and FuelTypes\n",
    "# Assumption(H0) is that FuelType and Prices are NOT correlated\n",
    "\n",
    "# Finds out the Prices data for each FuelType as a list\n",
    "CategoryGroupLists=CarPricesData.groupby('FuelType')['Price'].apply(list)\n",
    "# Performing the ANOVA test\n",
    "AnovaResults = f_oneway(*CategoryGroupLists)\n",
    "\n",
    "\n",
    "# Extreme example when all values are same and the variables are not correlated\n",
    "#AnovaResults = f_oneway( [10,20], [10,20], [10,20] )\n",
    "\n",
    "# Extreme example when all the values are different and both variables has correlation\n",
    "#AnovaResults = f_oneway( [400,500], [7,10], [0.006,0.00001] )\n",
    "\n",
    "print('P-Value for Anova is: ', AnovaResults[1])\n",
    "\n",
    "# We accept the Assumption(H0) only when P-Value > 0.05\n",
    "# Here the P-Value is > 0.05 by a slight margin!! which means we will Accept the Assumption(H0)\n",
    "# This means Price and Fuel Type are NOT correlated"
   ]
  },
  {
   "cell_type": "code",
   "execution_count": 25,
   "metadata": {},
   "outputs": [],
   "source": [
    "# Home work\n",
    "# Write a function to take 3 inputs and provide the anova results for all the categorical predictors\n",
    "# FunctionAnova(inputData=CarPricesData, targetVar='Price', categoricalPredictors=['FuelType','MetColor'])"
   ]
  },
  {
   "cell_type": "code",
   "execution_count": 26,
   "metadata": {},
   "outputs": [],
   "source": [
    "#1. Create a new jupyter notebook\n",
    "#2. Type all the commands manually\n",
    "\n",
    "#3. Perform data exploration for all the datasets in the Regression datasets folder"
   ]
  },
  {
   "cell_type": "code",
   "execution_count": null,
   "metadata": {},
   "outputs": [],
   "source": []
  },
  {
   "cell_type": "code",
   "execution_count": null,
   "metadata": {},
   "outputs": [],
   "source": []
  },
  {
   "cell_type": "markdown",
   "metadata": {
    "collapsed": true
   },
   "source": [
    "# Data Pre-processing for Machine Learning\n",
    "* Treating Missing Values (Interpolate/Replace with median/Mode values)\n",
    "* Treating Outliers (Delete or replace with nearby logical value)\n",
    "* Converting each Ordinal Categorical columns to numeric\n",
    "* Converting all nominal Categorical columns to numeric\n",
    "* Standardization/Normalization(Optional)"
   ]
  },
  {
   "cell_type": "markdown",
   "metadata": {},
   "source": [
    "### Data Pre-Processing: Treating Missing Values"
   ]
  },
  {
   "cell_type": "code",
   "execution_count": 27,
   "metadata": {},
   "outputs": [
    {
     "data": {
      "text/plain": [
       "Price        0\n",
       "Age          2\n",
       "KM           0\n",
       "FuelType     4\n",
       "HP           0\n",
       "MetColor     0\n",
       "Automatic    0\n",
       "CC           2\n",
       "Doors        0\n",
       "Weight       2\n",
       "dtype: int64"
      ]
     },
     "execution_count": 27,
     "metadata": {},
     "output_type": "execute_result"
    }
   ],
   "source": [
    "# Finding out how many missing values are present in each column\n",
    "CarPricesData.isnull().sum()"
   ]
  },
  {
   "cell_type": "code",
   "execution_count": 28,
   "metadata": {},
   "outputs": [
    {
     "name": "stdout",
     "output_type": "stream",
     "text": [
      "Before Deleting missing values: (1435, 10)\n",
      "After Deleting missing values: (1425, 10)\n"
     ]
    }
   ],
   "source": [
    "# Code to delete all the missing values at once\n",
    "print('Before Deleting missing values:', CarPricesData.shape)\n",
    "CarPricesDataCleaned=CarPricesData.dropna()\n",
    "print('After Deleting missing values:', CarPricesDataCleaned.shape)"
   ]
  },
  {
   "cell_type": "markdown",
   "metadata": {},
   "source": [
    "### Example to show how interpolation works :)"
   ]
  },
  {
   "cell_type": "code",
   "execution_count": 29,
   "metadata": {},
   "outputs": [
    {
     "data": {
      "text/plain": [
       "0      0.0\n",
       "1      5.0\n",
       "2      4.5\n",
       "3      4.0\n",
       "4     80.0\n",
       "5     14.0\n",
       "6    130.0\n",
       "7     70.0\n",
       "8     10.0\n",
       "dtype: float64"
      ]
     },
     "execution_count": 29,
     "metadata": {},
     "output_type": "execute_result"
    }
   ],
   "source": [
    "import pandas as pd\n",
    "import numpy as np\n",
    "# How interpolate works?\n",
    "s = pd.Series([0, 1, np.nan, 3, 4, 5, 6, np.nan, 8])\n",
    "\n",
    "s = pd.Series([0, 5, np.nan, 4, 80, 14, 130, np.nan, 10])\n",
    "s1 = pd.Series(['Petrol', 'Diesel', np.nan, 'Diesel', 'Petrol', 'CNG', 'CNG', np.nan, 'Petrol'])\n",
    "\n",
    "# For categorical data method= 'pad', 'ffill' , 'bfill' etc is used\n",
    "#s1.interpolate(method='ffill')\n",
    "\n",
    "# For numeric data method= 'linear', 'quadratic' etc is used\n",
    "s.interpolate(method='linear')"
   ]
  },
  {
   "cell_type": "markdown",
   "metadata": {},
   "source": [
    "### Treating the missing values of CarPricesData"
   ]
  },
  {
   "cell_type": "code",
   "execution_count": 30,
   "metadata": {},
   "outputs": [],
   "source": [
    "# Treating missing values in each column\n",
    "\n",
    "# Replacing by interpolation for a numeric variable\n",
    "CarPricesData['Age']=CarPricesData['Age'].interpolate(method='linear')\n",
    "\n",
    "# Replacing with median value a numeric variable\n",
    "MedianWeight=CarPricesData['Weight'].median()\n",
    "CarPricesData['Weight']=CarPricesData['Weight'].fillna(value=MedianWeight)\n",
    "\n",
    "###################################################################################\n",
    "\n",
    "# Replacing with interpolation for a categorical variable\n",
    "CarPricesData['FuelType']=CarPricesData['FuelType'].interpolate(method='ffill')\n",
    "\n",
    "# Replacing with mode value for a categorical variable\n",
    "ModeCC=CarPricesData['CC'].mode()[0]\n",
    "CarPricesData['CC']=CarPricesData['CC'].fillna(value=ModeCC)"
   ]
  },
  {
   "cell_type": "code",
   "execution_count": 31,
   "metadata": {},
   "outputs": [
    {
     "data": {
      "text/plain": [
       "Price        0\n",
       "Age          0\n",
       "KM           0\n",
       "FuelType     0\n",
       "HP           0\n",
       "MetColor     0\n",
       "Automatic    0\n",
       "CC           0\n",
       "Doors        0\n",
       "Weight       0\n",
       "dtype: int64"
      ]
     },
     "execution_count": 31,
     "metadata": {},
     "output_type": "execute_result"
    }
   ],
   "source": [
    "# Every column must have Zero missing values before you proceed futher\n",
    "CarPricesData.isnull().sum()"
   ]
  },
  {
   "cell_type": "code",
   "execution_count": null,
   "metadata": {},
   "outputs": [],
   "source": []
  },
  {
   "cell_type": "markdown",
   "metadata": {},
   "source": [
    "### Data Pre-Processing: Treating Outliers\n",
    "* Outliers are treated by either deleting them or replacing the outlier values with a logical value as per business and similar data"
   ]
  },
  {
   "cell_type": "code",
   "execution_count": 32,
   "metadata": {
    "scrolled": true
   },
   "outputs": [
    {
     "data": {
      "text/plain": [
       "<matplotlib.axes._subplots.AxesSubplot at 0x11f00bc10>"
      ]
     },
     "execution_count": 32,
     "metadata": {},
     "output_type": "execute_result"
    },
    {
     "data": {
      "image/png": "[encoded data removed]",
      "text/plain": [
       "<Figure size 432x288 with 1 Axes>"
      ]
     },
     "metadata": {
      "needs_background": "light"
     },
     "output_type": "display_data"
    }
   ],
   "source": [
    "# Looking at the distribution of weight column\n",
    "CarPricesData['Weight'].hist()"
   ]
  },
  {
   "cell_type": "code",
   "execution_count": 33,
   "metadata": {
    "scrolled": true
   },
   "outputs": [
    {
     "data": {
      "text/plain": [
       "<matplotlib.axes._subplots.AxesSubplot at 0x12b737c10>"
      ]
     },
     "execution_count": 33,
     "metadata": {},
     "output_type": "execute_result"
    },
    {
     "data": {
      "image/png": "[encoded data removed]",
      "text/plain": [
       "<Figure size 432x288 with 1 Axes>"
      ]
     },
     "metadata": {
      "needs_background": "light"
     },
     "output_type": "display_data"
    }
   ],
   "source": [
    "# Looking at the relation with the target column before removing outlier\n",
    "CarPricesData.plot.scatter(x='Weight', y='Price', marker='o', color='blue')"
   ]
  },
  {
   "cell_type": "code",
   "execution_count": 34,
   "metadata": {},
   "outputs": [
    {
     "data": {
      "text/html": [
       "<div>\n",
       "<style scoped>\n",
       "    .dataframe tbody tr th:only-of-type {\n",
       "        vertical-align: middle;\n",
       "    }\n",
       "\n",
       "    .dataframe tbody tr th {\n",
       "        vertical-align: top;\n",
       "    }\n",
       "\n",
       "    .dataframe thead th {\n",
       "        text-align: right;\n",
       "    }\n",
       "</style>\n",
       "<table border=\"1\" class=\"dataframe\">\n",
       "  <thead>\n",
       "    <tr style=\"text-align: right;\">\n",
       "      <th></th>\n",
       "      <th>Price</th>\n",
       "      <th>Weight</th>\n",
       "    </tr>\n",
       "  </thead>\n",
       "  <tbody>\n",
       "    <tr>\n",
       "      <td>Price</td>\n",
       "      <td>1.000000</td>\n",
       "      <td>0.556426</td>\n",
       "    </tr>\n",
       "    <tr>\n",
       "      <td>Weight</td>\n",
       "      <td>0.556426</td>\n",
       "      <td>1.000000</td>\n",
       "    </tr>\n",
       "  </tbody>\n",
       "</table>\n",
       "</div>"
      ],
      "text/plain": [
       "           Price    Weight\n",
       "Price   1.000000  0.556426\n",
       "Weight  0.556426  1.000000"
      ]
     },
     "execution_count": 34,
     "metadata": {},
     "output_type": "execute_result"
    }
   ],
   "source": [
    "# Looking at the correlation with target variable before removing outliers\n",
    "CarPricesData[['Price','Weight']].corr()"
   ]
  },
  {
   "cell_type": "code",
   "execution_count": 35,
   "metadata": {},
   "outputs": [],
   "source": [
    "# Removing the outlier values from data\n",
    "CarPricesData=CarPricesData[CarPricesData['Weight']<1400]"
   ]
  },
  {
   "cell_type": "code",
   "execution_count": 36,
   "metadata": {},
   "outputs": [
    {
     "data": {
      "text/plain": [
       "<matplotlib.axes._subplots.AxesSubplot at 0x12b8083d0>"
      ]
     },
     "execution_count": 36,
     "metadata": {},
     "output_type": "execute_result"
    },
    {
     "data": {
      "image/png": "[encoded data removed]",
      "text/plain": [
       "<Figure size 432x288 with 1 Axes>"
      ]
     },
     "metadata": {
      "needs_background": "light"
     },
     "output_type": "display_data"
    }
   ],
   "source": [
    "# Plotting again to see the effect of removing outliers\n",
    "CarPricesData.plot.scatter(x='Weight', y='Price', marker='o', color='blue')"
   ]
  },
  {
   "cell_type": "code",
   "execution_count": 37,
   "metadata": {},
   "outputs": [
    {
     "name": "stdout",
     "output_type": "stream",
     "text": [
      "     Price   Age      KM FuelType  HP  MetColor  Automatic      CC  Doors  \\\n",
      "601   7500  50.0       1   Diesel  90         1          0  2000.0      3   \n",
      "654   6950  65.0  114383   Diesel  90         0          0  2000.0      3   \n",
      "\n",
      "     Weight  \n",
      "601  1260.0  \n",
      "654  1260.0  \n"
     ]
    }
   ],
   "source": [
    "# Removing the outlier values from data\n",
    "FilterCondition1=CarPricesData['Weight']>1250\n",
    "FilterCondition2=CarPricesData['Price']<10000\n",
    "\n",
    "# Printing the outlier rows\n",
    "print(CarPricesData[FilterCondition1 & FilterCondition2])\n",
    "\n",
    "RowsToDelete=CarPricesData[FilterCondition1 & FilterCondition2].index\n",
    "CarPricesData=CarPricesData.drop(RowsToDelete)"
   ]
  },
  {
   "cell_type": "code",
   "execution_count": 38,
   "metadata": {},
   "outputs": [
    {
     "data": {
      "text/plain": [
       "<matplotlib.axes._subplots.AxesSubplot at 0x12b917690>"
      ]
     },
     "execution_count": 38,
     "metadata": {},
     "output_type": "execute_result"
    },
    {
     "data": {
      "image/png": "[encoded data removed]",
      "text/plain": [
       "<Figure size 432x288 with 1 Axes>"
      ]
     },
     "metadata": {
      "needs_background": "light"
     },
     "output_type": "display_data"
    }
   ],
   "source": [
    "# Plotting again to see the effect of removing outliers\n",
    "CarPricesData.plot.scatter(x='Weight', y='Price', marker='o', color='blue')"
   ]
  },
  {
   "cell_type": "code",
   "execution_count": 39,
   "metadata": {},
   "outputs": [
    {
     "data": {
      "text/html": [
       "<div>\n",
       "<style scoped>\n",
       "    .dataframe tbody tr th:only-of-type {\n",
       "        vertical-align: middle;\n",
       "    }\n",
       "\n",
       "    .dataframe tbody tr th {\n",
       "        vertical-align: top;\n",
       "    }\n",
       "\n",
       "    .dataframe thead th {\n",
       "        text-align: right;\n",
       "    }\n",
       "</style>\n",
       "<table border=\"1\" class=\"dataframe\">\n",
       "  <thead>\n",
       "    <tr style=\"text-align: right;\">\n",
       "      <th></th>\n",
       "      <th>Price</th>\n",
       "      <th>Weight</th>\n",
       "    </tr>\n",
       "  </thead>\n",
       "  <tbody>\n",
       "    <tr>\n",
       "      <td>Price</td>\n",
       "      <td>1.000000</td>\n",
       "      <td>0.586109</td>\n",
       "    </tr>\n",
       "    <tr>\n",
       "      <td>Weight</td>\n",
       "      <td>0.586109</td>\n",
       "      <td>1.000000</td>\n",
       "    </tr>\n",
       "  </tbody>\n",
       "</table>\n",
       "</div>"
      ],
      "text/plain": [
       "           Price    Weight\n",
       "Price   1.000000  0.586109\n",
       "Weight  0.586109  1.000000"
      ]
     },
     "execution_count": 39,
     "metadata": {},
     "output_type": "execute_result"
    }
   ],
   "source": [
    "# Correlation increases after outlier removal in data\n",
    "CarPricesData[['Price','Weight']].corr()"
   ]
  },
  {
   "cell_type": "markdown",
   "metadata": {
    "collapsed": true
   },
   "source": [
    "### Data Pre-Processing: Converting Categorical data to numeric\n",
    "1. First Treat all Ordinal variables by manually mapping the numeric values\n",
    "2. Treat all nominal variables using dummy variables"
   ]
  },
  {
   "cell_type": "code",
   "execution_count": 40,
   "metadata": {},
   "outputs": [
    {
     "data": {
      "text/html": [
       "<div>\n",
       "<style scoped>\n",
       "    .dataframe tbody tr th:only-of-type {\n",
       "        vertical-align: middle;\n",
       "    }\n",
       "\n",
       "    .dataframe tbody tr th {\n",
       "        vertical-align: top;\n",
       "    }\n",
       "\n",
       "    .dataframe thead th {\n",
       "        text-align: right;\n",
       "    }\n",
       "</style>\n",
       "<table border=\"1\" class=\"dataframe\">\n",
       "  <thead>\n",
       "    <tr style=\"text-align: right;\">\n",
       "      <th></th>\n",
       "      <th>Price</th>\n",
       "      <th>Age</th>\n",
       "      <th>KM</th>\n",
       "      <th>HP</th>\n",
       "      <th>MetColor</th>\n",
       "      <th>Automatic</th>\n",
       "      <th>CC</th>\n",
       "      <th>Doors</th>\n",
       "      <th>Weight</th>\n",
       "      <th>FuelType_CNG</th>\n",
       "      <th>FuelType_Diesel</th>\n",
       "      <th>FuelType_Petrol</th>\n",
       "    </tr>\n",
       "  </thead>\n",
       "  <tbody>\n",
       "    <tr>\n",
       "      <td>0</td>\n",
       "      <td>13500</td>\n",
       "      <td>23.0</td>\n",
       "      <td>46986</td>\n",
       "      <td>90</td>\n",
       "      <td>1</td>\n",
       "      <td>0</td>\n",
       "      <td>2000.0</td>\n",
       "      <td>3</td>\n",
       "      <td>1165.0</td>\n",
       "      <td>0</td>\n",
       "      <td>1</td>\n",
       "      <td>0</td>\n",
       "    </tr>\n",
       "    <tr>\n",
       "      <td>1</td>\n",
       "      <td>13750</td>\n",
       "      <td>23.0</td>\n",
       "      <td>72937</td>\n",
       "      <td>90</td>\n",
       "      <td>1</td>\n",
       "      <td>0</td>\n",
       "      <td>2000.0</td>\n",
       "      <td>3</td>\n",
       "      <td>1165.0</td>\n",
       "      <td>0</td>\n",
       "      <td>1</td>\n",
       "      <td>0</td>\n",
       "    </tr>\n",
       "    <tr>\n",
       "      <td>2</td>\n",
       "      <td>13950</td>\n",
       "      <td>24.0</td>\n",
       "      <td>41711</td>\n",
       "      <td>90</td>\n",
       "      <td>1</td>\n",
       "      <td>0</td>\n",
       "      <td>2000.0</td>\n",
       "      <td>3</td>\n",
       "      <td>1165.0</td>\n",
       "      <td>0</td>\n",
       "      <td>1</td>\n",
       "      <td>0</td>\n",
       "    </tr>\n",
       "    <tr>\n",
       "      <td>3</td>\n",
       "      <td>14950</td>\n",
       "      <td>26.0</td>\n",
       "      <td>48000</td>\n",
       "      <td>90</td>\n",
       "      <td>0</td>\n",
       "      <td>0</td>\n",
       "      <td>2000.0</td>\n",
       "      <td>3</td>\n",
       "      <td>1165.0</td>\n",
       "      <td>0</td>\n",
       "      <td>1</td>\n",
       "      <td>0</td>\n",
       "    </tr>\n",
       "    <tr>\n",
       "      <td>4</td>\n",
       "      <td>13750</td>\n",
       "      <td>30.0</td>\n",
       "      <td>38500</td>\n",
       "      <td>90</td>\n",
       "      <td>0</td>\n",
       "      <td>0</td>\n",
       "      <td>2000.0</td>\n",
       "      <td>3</td>\n",
       "      <td>1170.0</td>\n",
       "      <td>0</td>\n",
       "      <td>1</td>\n",
       "      <td>0</td>\n",
       "    </tr>\n",
       "  </tbody>\n",
       "</table>\n",
       "</div>"
      ],
      "text/plain": [
       "   Price   Age     KM  HP  MetColor  Automatic      CC  Doors  Weight  \\\n",
       "0  13500  23.0  46986  90         1          0  2000.0      3  1165.0   \n",
       "1  13750  23.0  72937  90         1          0  2000.0      3  1165.0   \n",
       "2  13950  24.0  41711  90         1          0  2000.0      3  1165.0   \n",
       "3  14950  26.0  48000  90         0          0  2000.0      3  1165.0   \n",
       "4  13750  30.0  38500  90         0          0  2000.0      3  1170.0   \n",
       "\n",
       "   FuelType_CNG  FuelType_Diesel  FuelType_Petrol  \n",
       "0             0                1                0  \n",
       "1             0                1                0  \n",
       "2             0                1                0  \n",
       "3             0                1                0  \n",
       "4             0                1                0  "
      ]
     },
     "execution_count": 40,
     "metadata": {},
     "output_type": "execute_result"
    }
   ],
   "source": [
    "# CarPricesData has only one string categorical variable FuelType\n",
    "# Hence using get_dummies function\n",
    "CarPricesDataNumeric=pd.get_dummies(CarPricesData)\n",
    "CarPricesDataNumeric.head()"
   ]
  },
  {
   "cell_type": "markdown",
   "metadata": {},
   "source": [
    "### Saving the processed data as pickle file"
   ]
  },
  {
   "cell_type": "code",
   "execution_count": 41,
   "metadata": {},
   "outputs": [],
   "source": [
    "# Saving the pre-processed data for future reference\n",
    "CarPricesDataNumeric.to_pickle('CarPricesDataNumeric.pkl')"
   ]
  },
  {
   "cell_type": "code",
   "execution_count": 42,
   "metadata": {},
   "outputs": [
    {
     "data": {
      "text/plain": [
       "Index(['Price', 'Age', 'KM', 'HP', 'MetColor', 'Automatic', 'CC', 'Doors',\n",
       "       'Weight', 'FuelType_CNG', 'FuelType_Diesel', 'FuelType_Petrol'],\n",
       "      dtype='object')"
      ]
     },
     "execution_count": 42,
     "metadata": {},
     "output_type": "execute_result"
    }
   ],
   "source": [
    "CarPricesDataNumeric.columns"
   ]
  },
  {
   "cell_type": "code",
   "execution_count": null,
   "metadata": {},
   "outputs": [],
   "source": []
  },
  {
   "cell_type": "markdown",
   "metadata": {},
   "source": [
    "# Machine Learning: Splitting the data into Training and Testing sample\n",
    "We dont use the full data for creating the model. Some data is randomly selected and kept aside for checking how good the model is. This is known as Testing Data and the remaining data is called Training data on which the model is built. Typically 70% of data is used as Training data and the rest 30% is used as Tesing data"
   ]
  },
  {
   "cell_type": "code",
   "execution_count": 43,
   "metadata": {},
   "outputs": [],
   "source": [
    "# Separate Target Variable and Predictor Variables\n",
    "TargetVariable='Price'\n",
    "Predictors=['Age']\n",
    "X=CarPricesDataNumeric[Predictors].values\n",
    "y=CarPricesDataNumeric[TargetVariable].values\n",
    "\n",
    "# Split the data into training and testing set\n",
    "from sklearn.model_selection import train_test_split\n",
    "X_train, X_test, y_train, y_test = train_test_split(X, y, test_size=0.2, random_state=42)"
   ]
  },
  {
   "cell_type": "code",
   "execution_count": 44,
   "metadata": {
    "scrolled": true
   },
   "outputs": [
    {
     "name": "stdout",
     "output_type": "stream",
     "text": [
      "(1142, 1)\n",
      "(1142,)\n",
      "(286, 1)\n",
      "(286,)\n"
     ]
    }
   ],
   "source": [
    "# Quick sanity check with the shapes of Training and testing datasets\n",
    "print(X_train.shape)\n",
    "print(y_train.shape)\n",
    "print(X_test.shape)\n",
    "print(y_test.shape)"
   ]
  },
  {
   "cell_type": "code",
   "execution_count": 45,
   "metadata": {},
   "outputs": [
    {
     "data": {
      "text/plain": [
       "array([[44.],\n",
       "       [75.],\n",
       "       [22.],\n",
       "       [33.],\n",
       "       [58.]])"
      ]
     },
     "execution_count": 45,
     "metadata": {},
     "output_type": "execute_result"
    }
   ],
   "source": [
    "# Printing first 5 rows from training data\n",
    "X_train[0:5]"
   ]
  },
  {
   "cell_type": "markdown",
   "metadata": {},
   "source": [
    "# Machine Learning: Fitting Multiple algorithms on data\n",
    "We create multiple models by using multiple algorithms and select that models which gives the best accuracy\n"
   ]
  },
  {
   "cell_type": "markdown",
   "metadata": {},
   "source": [
    "## Simple Linear Regression\n",
    "When only one predictor is used"
   ]
  },
  {
   "cell_type": "code",
   "execution_count": 46,
   "metadata": {},
   "outputs": [
    {
     "name": "stdout",
     "output_type": "stream",
     "text": [
      "LinearRegression(copy_X=True, fit_intercept=True, n_jobs=None, normalize=False)\n",
      "R2 Value: 0.774923202034439\n",
      "Accuracy on Test Data: 88.63693816806311\n"
     ]
    },
    {
     "data": {
      "text/html": [
       "<div>\n",
       "<style scoped>\n",
       "    .dataframe tbody tr th:only-of-type {\n",
       "        vertical-align: middle;\n",
       "    }\n",
       "\n",
       "    .dataframe tbody tr th {\n",
       "        vertical-align: top;\n",
       "    }\n",
       "\n",
       "    .dataframe thead th {\n",
       "        text-align: right;\n",
       "    }\n",
       "</style>\n",
       "<table border=\"1\" class=\"dataframe\">\n",
       "  <thead>\n",
       "    <tr style=\"text-align: right;\">\n",
       "      <th></th>\n",
       "      <th>Age</th>\n",
       "      <th>Price</th>\n",
       "      <th>PredictedPrice</th>\n",
       "    </tr>\n",
       "  </thead>\n",
       "  <tbody>\n",
       "    <tr>\n",
       "      <td>0</td>\n",
       "      <td>20.0</td>\n",
       "      <td>16500</td>\n",
       "      <td>16716.0</td>\n",
       "    </tr>\n",
       "    <tr>\n",
       "      <td>1</td>\n",
       "      <td>76.0</td>\n",
       "      <td>8950</td>\n",
       "      <td>7367.0</td>\n",
       "    </tr>\n",
       "    <tr>\n",
       "      <td>2</td>\n",
       "      <td>56.0</td>\n",
       "      <td>11950</td>\n",
       "      <td>10706.0</td>\n",
       "    </tr>\n",
       "    <tr>\n",
       "      <td>3</td>\n",
       "      <td>39.0</td>\n",
       "      <td>12695</td>\n",
       "      <td>13544.0</td>\n",
       "    </tr>\n",
       "    <tr>\n",
       "      <td>4</td>\n",
       "      <td>68.0</td>\n",
       "      <td>8900</td>\n",
       "      <td>8702.0</td>\n",
       "    </tr>\n",
       "  </tbody>\n",
       "</table>\n",
       "</div>"
      ],
      "text/plain": [
       "    Age  Price  PredictedPrice\n",
       "0  20.0  16500         16716.0\n",
       "1  76.0   8950          7367.0\n",
       "2  56.0  11950         10706.0\n",
       "3  39.0  12695         13544.0\n",
       "4  68.0   8900          8702.0"
      ]
     },
     "execution_count": 46,
     "metadata": {},
     "output_type": "execute_result"
    }
   ],
   "source": [
    "# Simple Linear Regression\n",
    "from sklearn.linear_model import LinearRegression\n",
    "RegModel = LinearRegression()\n",
    "\n",
    "# Printing all the parameters of Linear regression\n",
    "print(RegModel)\n",
    "\n",
    "# Creating the model on Training Data\n",
    "LREG=RegModel.fit(X_train,y_train)\n",
    "prediction=LREG.predict(X_test)\n",
    "\n",
    "from sklearn import metrics\n",
    "# Measuring Goodness of fit in Training data\n",
    "print('R2 Value:',metrics.r2_score(y_train, LREG.predict(X_train)))\n",
    "\n",
    "# Measuring accuracy on Testing Data\n",
    "print('Accuracy on Test Data:',100- (np.mean(np.abs((y_test - prediction) / y_test)) * 100))\n",
    "\n",
    "# Printing some sample values of prediction\n",
    "TestingDataResults=pd.DataFrame(data=X_test, columns=Predictors)\n",
    "TestingDataResults[TargetVariable]=y_test\n",
    "TestingDataResults[('Predicted'+TargetVariable)]=np.round(prediction)\n",
    "TestingDataResults.head()"
   ]
  },
  {
   "cell_type": "code",
   "execution_count": 47,
   "metadata": {},
   "outputs": [
    {
     "name": "stdout",
     "output_type": "stream",
     "text": [
      "The value of slope is:  [-166.94472579]\n",
      "The value of Intercept is:  20054.44944297563\n"
     ]
    }
   ],
   "source": [
    "print('The value of slope is: ',LREG.coef_)\n",
    "print('The value of Intercept is: ',LREG.intercept_)"
   ]
  },
  {
   "cell_type": "markdown",
   "metadata": {},
   "source": [
    "### Using above slope and intercept, Equation of our Simple Linear regression model becomes\n",
    "<b> Price = -166.99 * Age + 20065.11 </b>"
   ]
  },
  {
   "cell_type": "code",
   "execution_count": 48,
   "metadata": {},
   "outputs": [
    {
     "data": {
      "text/plain": [
       "[<matplotlib.lines.Line2D at 0x12c7b6ed0>]"
      ]
     },
     "execution_count": 48,
     "metadata": {},
     "output_type": "execute_result"
    },
    {
     "data": {
      "image/png": "[encoded data removed]",
      "text/plain": [
       "<Figure size 432x288 with 1 Axes>"
      ]
     },
     "metadata": {
      "needs_background": "light"
     },
     "output_type": "display_data"
    }
   ],
   "source": [
    "# Visualizing the line of best fit\n",
    "import matplotlib.pyplot as plt\n",
    "plt.scatter(x=TestingDataResults['Age'] , y=TestingDataResults['Price'])\n",
    "plt.plot(TestingDataResults['Age'] , TestingDataResults['PredictedPrice'], color='red')"
   ]
  },
  {
   "cell_type": "code",
   "execution_count": null,
   "metadata": {},
   "outputs": [],
   "source": []
  },
  {
   "cell_type": "code",
   "execution_count": null,
   "metadata": {},
   "outputs": [],
   "source": []
  },
  {
   "cell_type": "markdown",
   "metadata": {},
   "source": [
    "### Sampling with multiple Predictor columns for all other algorithms"
   ]
  },
  {
   "cell_type": "code",
   "execution_count": 49,
   "metadata": {},
   "outputs": [],
   "source": [
    "# Separate Target Variable and Predictor Variables\n",
    "TargetVariable='Price'\n",
    "Predictors=['Age', 'KM', 'HP', 'MetColor', 'Automatic', 'CC', 'Doors',\n",
    "       'Weight', 'FuelType_CNG', 'FuelType_Diesel', 'FuelType_Petrol']\n",
    "X=CarPricesDataNumeric[Predictors].values\n",
    "y=CarPricesDataNumeric[TargetVariable].values\n",
    "\n",
    "# Split the data into training and testing set\n",
    "from sklearn.model_selection import train_test_split\n",
    "X_train, X_test, y_train, y_test = train_test_split(X, y, test_size=0.3, random_state=42)"
   ]
  },
  {
   "cell_type": "code",
   "execution_count": 50,
   "metadata": {},
   "outputs": [
    {
     "name": "stdout",
     "output_type": "stream",
     "text": [
      "(999, 11)\n",
      "(999,)\n",
      "(429, 11)\n",
      "(429,)\n"
     ]
    }
   ],
   "source": [
    "# Quick sanity check with the shapes of Training and testing datasets\n",
    "print(X_train.shape)\n",
    "print(y_train.shape)\n",
    "print(X_test.shape)\n",
    "print(y_test.shape)"
   ]
  },
  {
   "cell_type": "code",
   "execution_count": null,
   "metadata": {},
   "outputs": [],
   "source": []
  },
  {
   "cell_type": "markdown",
   "metadata": {},
   "source": [
    "## Multiple Linear Regression\n",
    "When multiple predictors are used"
   ]
  },
  {
   "cell_type": "code",
   "execution_count": 51,
   "metadata": {
    "scrolled": true
   },
   "outputs": [
    {
     "name": "stdout",
     "output_type": "stream",
     "text": [
      "LinearRegression(copy_X=True, fit_intercept=True, n_jobs=None, normalize=False)\n",
      "R2 Value: 0.8862240338633861\n",
      "Accuracy on Test Data: 90.94673214541355\n"
     ]
    },
    {
     "data": {
      "text/html": [
       "<div>\n",
       "<style scoped>\n",
       "    .dataframe tbody tr th:only-of-type {\n",
       "        vertical-align: middle;\n",
       "    }\n",
       "\n",
       "    .dataframe tbody tr th {\n",
       "        vertical-align: top;\n",
       "    }\n",
       "\n",
       "    .dataframe thead th {\n",
       "        text-align: right;\n",
       "    }\n",
       "</style>\n",
       "<table border=\"1\" class=\"dataframe\">\n",
       "  <thead>\n",
       "    <tr style=\"text-align: right;\">\n",
       "      <th></th>\n",
       "      <th>Age</th>\n",
       "      <th>KM</th>\n",
       "      <th>HP</th>\n",
       "      <th>MetColor</th>\n",
       "      <th>Automatic</th>\n",
       "      <th>CC</th>\n",
       "      <th>Doors</th>\n",
       "      <th>Weight</th>\n",
       "      <th>FuelType_CNG</th>\n",
       "      <th>FuelType_Diesel</th>\n",
       "      <th>FuelType_Petrol</th>\n",
       "      <th>Price</th>\n",
       "      <th>PredictedPrice</th>\n",
       "    </tr>\n",
       "  </thead>\n",
       "  <tbody>\n",
       "    <tr>\n",
       "      <td>0</td>\n",
       "      <td>20.0</td>\n",
       "      <td>35000.0</td>\n",
       "      <td>97.0</td>\n",
       "      <td>1.0</td>\n",
       "      <td>0.0</td>\n",
       "      <td>1400.0</td>\n",
       "      <td>5.0</td>\n",
       "      <td>1110.0</td>\n",
       "      <td>0.0</td>\n",
       "      <td>0.0</td>\n",
       "      <td>1.0</td>\n",
       "      <td>16500</td>\n",
       "      <td>16917.0</td>\n",
       "    </tr>\n",
       "    <tr>\n",
       "      <td>1</td>\n",
       "      <td>76.0</td>\n",
       "      <td>89520.0</td>\n",
       "      <td>110.0</td>\n",
       "      <td>1.0</td>\n",
       "      <td>0.0</td>\n",
       "      <td>1600.0</td>\n",
       "      <td>3.0</td>\n",
       "      <td>1050.0</td>\n",
       "      <td>0.0</td>\n",
       "      <td>0.0</td>\n",
       "      <td>1.0</td>\n",
       "      <td>8950</td>\n",
       "      <td>7873.0</td>\n",
       "    </tr>\n",
       "    <tr>\n",
       "      <td>2</td>\n",
       "      <td>56.0</td>\n",
       "      <td>66777.0</td>\n",
       "      <td>110.0</td>\n",
       "      <td>0.0</td>\n",
       "      <td>0.0</td>\n",
       "      <td>1600.0</td>\n",
       "      <td>5.0</td>\n",
       "      <td>1090.0</td>\n",
       "      <td>0.0</td>\n",
       "      <td>0.0</td>\n",
       "      <td>1.0</td>\n",
       "      <td>11950</td>\n",
       "      <td>11406.0</td>\n",
       "    </tr>\n",
       "    <tr>\n",
       "      <td>3</td>\n",
       "      <td>39.0</td>\n",
       "      <td>24723.0</td>\n",
       "      <td>110.0</td>\n",
       "      <td>1.0</td>\n",
       "      <td>1.0</td>\n",
       "      <td>1600.0</td>\n",
       "      <td>4.0</td>\n",
       "      <td>1060.0</td>\n",
       "      <td>0.0</td>\n",
       "      <td>0.0</td>\n",
       "      <td>1.0</td>\n",
       "      <td>12695</td>\n",
       "      <td>13074.0</td>\n",
       "    </tr>\n",
       "    <tr>\n",
       "      <td>4</td>\n",
       "      <td>68.0</td>\n",
       "      <td>35000.0</td>\n",
       "      <td>110.0</td>\n",
       "      <td>1.0</td>\n",
       "      <td>0.0</td>\n",
       "      <td>1600.0</td>\n",
       "      <td>3.0</td>\n",
       "      <td>1050.0</td>\n",
       "      <td>0.0</td>\n",
       "      <td>0.0</td>\n",
       "      <td>1.0</td>\n",
       "      <td>8900</td>\n",
       "      <td>9584.0</td>\n",
       "    </tr>\n",
       "  </tbody>\n",
       "</table>\n",
       "</div>"
      ],
      "text/plain": [
       "    Age       KM     HP  MetColor  Automatic      CC  Doors  Weight  \\\n",
       "0  20.0  35000.0   97.0       1.0        0.0  1400.0    5.0  1110.0   \n",
       "1  76.0  89520.0  110.0       1.0        0.0  1600.0    3.0  1050.0   \n",
       "2  56.0  66777.0  110.0       0.0        0.0  1600.0    5.0  1090.0   \n",
       "3  39.0  24723.0  110.0       1.0        1.0  1600.0    4.0  1060.0   \n",
       "4  68.0  35000.0  110.0       1.0        0.0  1600.0    3.0  1050.0   \n",
       "\n",
       "   FuelType_CNG  FuelType_Diesel  FuelType_Petrol  Price  PredictedPrice  \n",
       "0           0.0              0.0              1.0  16500         16917.0  \n",
       "1           0.0              0.0              1.0   8950          7873.0  \n",
       "2           0.0              0.0              1.0  11950         11406.0  \n",
       "3           0.0              0.0              1.0  12695         13074.0  \n",
       "4           0.0              0.0              1.0   8900          9584.0  "
      ]
     },
     "execution_count": 51,
     "metadata": {},
     "output_type": "execute_result"
    }
   ],
   "source": [
    "# Multiple Linear Regression\n",
    "from sklearn.linear_model import LinearRegression\n",
    "RegModel = LinearRegression()\n",
    "\n",
    "# Printing all the parameters of Linear regression\n",
    "print(RegModel)\n",
    "\n",
    "# Creating the model on Training Data\n",
    "LREG=RegModel.fit(X_train,y_train)\n",
    "prediction=LREG.predict(X_test)\n",
    "\n",
    "from sklearn import metrics\n",
    "# Measuring Goodness of fit in Training data\n",
    "print('R2 Value:',metrics.r2_score(y_train, LREG.predict(X_train)))\n",
    "\n",
    "# Measuring accuracy on Testing Data\n",
    "print('Accuracy on Test Data:',100- (np.mean(np.abs((y_test - prediction) / y_test)) * 100))\n",
    "\n",
    "# Printing some sample values of prediction\n",
    "TestingDataResults=pd.DataFrame(data=X_test, columns=Predictors)\n",
    "TestingDataResults[TargetVariable]=y_test\n",
    "TestingDataResults[('Predicted'+TargetVariable)]=np.round(prediction)\n",
    "TestingDataResults.head()"
   ]
  },
  {
   "cell_type": "code",
   "execution_count": 52,
   "metadata": {},
   "outputs": [],
   "source": [
    "# Suppress the scientific notation in values\n",
    "np.set_printoptions(suppress=True)"
   ]
  },
  {
   "cell_type": "code",
   "execution_count": 53,
   "metadata": {},
   "outputs": [
    {
     "name": "stdout",
     "output_type": "stream",
     "text": [
      "The value of slope is:  [ -110.95542461    -0.01510892    30.88467686    50.76476514\n",
      "   -38.20476579    -3.38138182  -200.19774171    35.53586194\n",
      " -1074.79688055   349.0194685    725.77741204]\n",
      "The value of Intercept is:  -17817.510380067404\n"
     ]
    }
   ],
   "source": [
    "print('The value of slope is: ',LREG.coef_)\n",
    "print('The value of Intercept is: ',LREG.intercept_)"
   ]
  },
  {
   "cell_type": "markdown",
   "metadata": {},
   "source": [
    "### Analyzing the errors and outliers in the data"
   ]
  },
  {
   "cell_type": "code",
   "execution_count": 54,
   "metadata": {},
   "outputs": [
    {
     "data": {
      "text/html": [
       "<div>\n",
       "<style scoped>\n",
       "    .dataframe tbody tr th:only-of-type {\n",
       "        vertical-align: middle;\n",
       "    }\n",
       "\n",
       "    .dataframe tbody tr th {\n",
       "        vertical-align: top;\n",
       "    }\n",
       "\n",
       "    .dataframe thead th {\n",
       "        text-align: right;\n",
       "    }\n",
       "</style>\n",
       "<table border=\"1\" class=\"dataframe\">\n",
       "  <thead>\n",
       "    <tr style=\"text-align: right;\">\n",
       "      <th></th>\n",
       "      <th>Age</th>\n",
       "      <th>KM</th>\n",
       "      <th>HP</th>\n",
       "      <th>MetColor</th>\n",
       "      <th>Automatic</th>\n",
       "      <th>CC</th>\n",
       "      <th>Doors</th>\n",
       "      <th>Weight</th>\n",
       "      <th>FuelType_CNG</th>\n",
       "      <th>FuelType_Diesel</th>\n",
       "      <th>FuelType_Petrol</th>\n",
       "      <th>Price</th>\n",
       "      <th>PredictedPrice</th>\n",
       "      <th>APE</th>\n",
       "    </tr>\n",
       "  </thead>\n",
       "  <tbody>\n",
       "    <tr>\n",
       "      <td>295</td>\n",
       "      <td>44.0</td>\n",
       "      <td>131273.0</td>\n",
       "      <td>69.0</td>\n",
       "      <td>1.0</td>\n",
       "      <td>0.0</td>\n",
       "      <td>1800.0</td>\n",
       "      <td>5.0</td>\n",
       "      <td>1110.0</td>\n",
       "      <td>0.0</td>\n",
       "      <td>1.0</td>\n",
       "      <td>0.0</td>\n",
       "      <td>4750</td>\n",
       "      <td>10205.0</td>\n",
       "      <td>114.846630</td>\n",
       "    </tr>\n",
       "    <tr>\n",
       "      <td>242</td>\n",
       "      <td>74.0</td>\n",
       "      <td>203254.0</td>\n",
       "      <td>72.0</td>\n",
       "      <td>1.0</td>\n",
       "      <td>0.0</td>\n",
       "      <td>2000.0</td>\n",
       "      <td>3.0</td>\n",
       "      <td>1135.0</td>\n",
       "      <td>0.0</td>\n",
       "      <td>1.0</td>\n",
       "      <td>0.0</td>\n",
       "      <td>4400</td>\n",
       "      <td>6494.0</td>\n",
       "      <td>47.594693</td>\n",
       "    </tr>\n",
       "    <tr>\n",
       "      <td>143</td>\n",
       "      <td>58.0</td>\n",
       "      <td>69022.0</td>\n",
       "      <td>86.0</td>\n",
       "      <td>1.0</td>\n",
       "      <td>0.0</td>\n",
       "      <td>1300.0</td>\n",
       "      <td>5.0</td>\n",
       "      <td>1035.0</td>\n",
       "      <td>0.0</td>\n",
       "      <td>0.0</td>\n",
       "      <td>1.0</td>\n",
       "      <td>6950</td>\n",
       "      <td>9520.0</td>\n",
       "      <td>36.973860</td>\n",
       "    </tr>\n",
       "    <tr>\n",
       "      <td>366</td>\n",
       "      <td>58.0</td>\n",
       "      <td>43000.0</td>\n",
       "      <td>110.0</td>\n",
       "      <td>1.0</td>\n",
       "      <td>1.0</td>\n",
       "      <td>1600.0</td>\n",
       "      <td>4.0</td>\n",
       "      <td>1114.0</td>\n",
       "      <td>1.0</td>\n",
       "      <td>0.0</td>\n",
       "      <td>0.0</td>\n",
       "      <td>7950</td>\n",
       "      <td>10808.0</td>\n",
       "      <td>35.954933</td>\n",
       "    </tr>\n",
       "    <tr>\n",
       "      <td>44</td>\n",
       "      <td>78.0</td>\n",
       "      <td>52287.0</td>\n",
       "      <td>110.0</td>\n",
       "      <td>0.0</td>\n",
       "      <td>0.0</td>\n",
       "      <td>1600.0</td>\n",
       "      <td>5.0</td>\n",
       "      <td>1114.0</td>\n",
       "      <td>0.0</td>\n",
       "      <td>0.0</td>\n",
       "      <td>1.0</td>\n",
       "      <td>7450</td>\n",
       "      <td>10037.0</td>\n",
       "      <td>34.722264</td>\n",
       "    </tr>\n",
       "    <tr>\n",
       "      <td>421</td>\n",
       "      <td>48.0</td>\n",
       "      <td>28656.0</td>\n",
       "      <td>97.0</td>\n",
       "      <td>0.0</td>\n",
       "      <td>0.0</td>\n",
       "      <td>1400.0</td>\n",
       "      <td>3.0</td>\n",
       "      <td>1085.0</td>\n",
       "      <td>0.0</td>\n",
       "      <td>0.0</td>\n",
       "      <td>1.0</td>\n",
       "      <td>9950</td>\n",
       "      <td>13367.0</td>\n",
       "      <td>34.343130</td>\n",
       "    </tr>\n",
       "    <tr>\n",
       "      <td>268</td>\n",
       "      <td>69.0</td>\n",
       "      <td>58952.0</td>\n",
       "      <td>110.0</td>\n",
       "      <td>1.0</td>\n",
       "      <td>0.0</td>\n",
       "      <td>1600.0</td>\n",
       "      <td>3.0</td>\n",
       "      <td>1050.0</td>\n",
       "      <td>0.0</td>\n",
       "      <td>0.0</td>\n",
       "      <td>1.0</td>\n",
       "      <td>6900</td>\n",
       "      <td>9112.0</td>\n",
       "      <td>32.051762</td>\n",
       "    </tr>\n",
       "    <tr>\n",
       "      <td>16</td>\n",
       "      <td>44.0</td>\n",
       "      <td>71793.0</td>\n",
       "      <td>110.0</td>\n",
       "      <td>1.0</td>\n",
       "      <td>0.0</td>\n",
       "      <td>1600.0</td>\n",
       "      <td>4.0</td>\n",
       "      <td>1067.0</td>\n",
       "      <td>1.0</td>\n",
       "      <td>0.0</td>\n",
       "      <td>0.0</td>\n",
       "      <td>14950</td>\n",
       "      <td>10295.0</td>\n",
       "      <td>31.138588</td>\n",
       "    </tr>\n",
       "    <tr>\n",
       "      <td>419</td>\n",
       "      <td>80.0</td>\n",
       "      <td>70939.0</td>\n",
       "      <td>110.0</td>\n",
       "      <td>1.0</td>\n",
       "      <td>1.0</td>\n",
       "      <td>1600.0</td>\n",
       "      <td>5.0</td>\n",
       "      <td>1100.0</td>\n",
       "      <td>0.0</td>\n",
       "      <td>0.0</td>\n",
       "      <td>1.0</td>\n",
       "      <td>6900</td>\n",
       "      <td>9048.0</td>\n",
       "      <td>31.132523</td>\n",
       "    </tr>\n",
       "    <tr>\n",
       "      <td>334</td>\n",
       "      <td>71.0</td>\n",
       "      <td>64000.0</td>\n",
       "      <td>110.0</td>\n",
       "      <td>1.0</td>\n",
       "      <td>0.0</td>\n",
       "      <td>1600.0</td>\n",
       "      <td>5.0</td>\n",
       "      <td>1070.0</td>\n",
       "      <td>0.0</td>\n",
       "      <td>0.0</td>\n",
       "      <td>1.0</td>\n",
       "      <td>6999</td>\n",
       "      <td>9124.0</td>\n",
       "      <td>30.357375</td>\n",
       "    </tr>\n",
       "  </tbody>\n",
       "</table>\n",
       "</div>"
      ],
      "text/plain": [
       "      Age        KM     HP  MetColor  Automatic      CC  Doors  Weight  \\\n",
       "295  44.0  131273.0   69.0       1.0        0.0  1800.0    5.0  1110.0   \n",
       "242  74.0  203254.0   72.0       1.0        0.0  2000.0    3.0  1135.0   \n",
       "143  58.0   69022.0   86.0       1.0        0.0  1300.0    5.0  1035.0   \n",
       "366  58.0   43000.0  110.0       1.0        1.0  1600.0    4.0  1114.0   \n",
       "44   78.0   52287.0  110.0       0.0        0.0  1600.0    5.0  1114.0   \n",
       "421  48.0   28656.0   97.0       0.0        0.0  1400.0    3.0  1085.0   \n",
       "268  69.0   58952.0  110.0       1.0        0.0  1600.0    3.0  1050.0   \n",
       "16   44.0   71793.0  110.0       1.0        0.0  1600.0    4.0  1067.0   \n",
       "419  80.0   70939.0  110.0       1.0        1.0  1600.0    5.0  1100.0   \n",
       "334  71.0   64000.0  110.0       1.0        0.0  1600.0    5.0  1070.0   \n",
       "\n",
       "     FuelType_CNG  FuelType_Diesel  FuelType_Petrol  Price  PredictedPrice  \\\n",
       "295           0.0              1.0              0.0   4750         10205.0   \n",
       "242           0.0              1.0              0.0   4400          6494.0   \n",
       "143           0.0              0.0              1.0   6950          9520.0   \n",
       "366           1.0              0.0              0.0   7950         10808.0   \n",
       "44            0.0              0.0              1.0   7450         10037.0   \n",
       "421           0.0              0.0              1.0   9950         13367.0   \n",
       "268           0.0              0.0              1.0   6900          9112.0   \n",
       "16            1.0              0.0              0.0  14950         10295.0   \n",
       "419           0.0              0.0              1.0   6900          9048.0   \n",
       "334           0.0              0.0              1.0   6999          9124.0   \n",
       "\n",
       "            APE  \n",
       "295  114.846630  \n",
       "242   47.594693  \n",
       "143   36.973860  \n",
       "366   35.954933  \n",
       "44    34.722264  \n",
       "421   34.343130  \n",
       "268   32.051762  \n",
       "16    31.138588  \n",
       "419   31.132523  \n",
       "334   30.357375  "
      ]
     },
     "execution_count": 54,
     "metadata": {},
     "output_type": "execute_result"
    }
   ],
   "source": [
    "TestingDataResults['APE']= np.abs((y_test - prediction) / y_test) * 100\n",
    "\n",
    "# Printing the top 10 errors made by the model\n",
    "TestingDataResults.sort_values(by='APE', ascending=False).head(10)"
   ]
  },
  {
   "cell_type": "code",
   "execution_count": 55,
   "metadata": {},
   "outputs": [
    {
     "data": {
      "text/plain": [
       "<matplotlib.axes._subplots.AxesSubplot at 0x12c8e6fd0>"
      ]
     },
     "execution_count": 55,
     "metadata": {},
     "output_type": "execute_result"
    },
    {
     "data": {
      "image/png": "[encoded data removed]",
      "text/plain": [
       "<Figure size 1080x288 with 1 Axes>"
      ]
     },
     "metadata": {
      "needs_background": "light"
     },
     "output_type": "display_data"
    }
   ],
   "source": [
    "# Looking at the distribution of errors\n",
    "TestingDataResults['APE'].hist(figsize=(15,4))"
   ]
  },
  {
   "cell_type": "code",
   "execution_count": 56,
   "metadata": {},
   "outputs": [
    {
     "data": {
      "text/plain": [
       "<matplotlib.axes._subplots.AxesSubplot at 0x12c8ed5d0>"
      ]
     },
     "execution_count": 56,
     "metadata": {},
     "output_type": "execute_result"
    },
    {
     "data": {
      "image/png": "[encoded data removed]",
      "text/plain": [
       "<Figure size 1080x288 with 1 Axes>"
      ]
     },
     "metadata": {
      "needs_background": "light"
     },
     "output_type": "display_data"
    }
   ],
   "source": [
    "# Looking at the boxplot of APE to see the distribution of errors\n",
    "TestingDataResults.boxplot(column='APE',figsize=(15,4), vert=False)"
   ]
  },
  {
   "cell_type": "code",
   "execution_count": null,
   "metadata": {},
   "outputs": [],
   "source": []
  },
  {
   "cell_type": "code",
   "execution_count": null,
   "metadata": {},
   "outputs": [],
   "source": []
  },
  {
   "cell_type": "markdown",
   "metadata": {
    "collapsed": true
   },
   "source": [
    "## Decision Tree"
   ]
  },
  {
   "cell_type": "code",
   "execution_count": 73,
   "metadata": {},
   "outputs": [
    {
     "name": "stdout",
     "output_type": "stream",
     "text": [
      "DecisionTreeRegressor(criterion='mse', max_depth=1, max_features=None,\n",
      "                      max_leaf_nodes=None, min_impurity_decrease=0.0,\n",
      "                      min_impurity_split=None, min_samples_leaf=1,\n",
      "                      min_samples_split=2, min_weight_fraction_leaf=0.0,\n",
      "                      presort=False, random_state=None, splitter='best')\n",
      "R2 Value: 0.6724301487627906\n",
      "Accuracy 83.44308509234962\n"
     ]
    },
    {
     "data": {
      "text/html": [
       "<div>\n",
       "<style scoped>\n",
       "    .dataframe tbody tr th:only-of-type {\n",
       "        vertical-align: middle;\n",
       "    }\n",
       "\n",
       "    .dataframe tbody tr th {\n",
       "        vertical-align: top;\n",
       "    }\n",
       "\n",
       "    .dataframe thead th {\n",
       "        text-align: right;\n",
       "    }\n",
       "</style>\n",
       "<table border=\"1\" class=\"dataframe\">\n",
       "  <thead>\n",
       "    <tr style=\"text-align: right;\">\n",
       "      <th></th>\n",
       "      <th>Age</th>\n",
       "      <th>KM</th>\n",
       "      <th>HP</th>\n",
       "      <th>MetColor</th>\n",
       "      <th>Automatic</th>\n",
       "      <th>CC</th>\n",
       "      <th>Doors</th>\n",
       "      <th>Weight</th>\n",
       "      <th>FuelType_CNG</th>\n",
       "      <th>FuelType_Diesel</th>\n",
       "      <th>FuelType_Petrol</th>\n",
       "      <th>Price</th>\n",
       "      <th>PredictedPrice</th>\n",
       "    </tr>\n",
       "  </thead>\n",
       "  <tbody>\n",
       "    <tr>\n",
       "      <td>0</td>\n",
       "      <td>20.0</td>\n",
       "      <td>35000.0</td>\n",
       "      <td>97.0</td>\n",
       "      <td>1.0</td>\n",
       "      <td>0.0</td>\n",
       "      <td>1400.0</td>\n",
       "      <td>5.0</td>\n",
       "      <td>1110.0</td>\n",
       "      <td>0.0</td>\n",
       "      <td>0.0</td>\n",
       "      <td>1.0</td>\n",
       "      <td>16500</td>\n",
       "      <td>18033.0</td>\n",
       "    </tr>\n",
       "    <tr>\n",
       "      <td>1</td>\n",
       "      <td>76.0</td>\n",
       "      <td>89520.0</td>\n",
       "      <td>110.0</td>\n",
       "      <td>1.0</td>\n",
       "      <td>0.0</td>\n",
       "      <td>1600.0</td>\n",
       "      <td>3.0</td>\n",
       "      <td>1050.0</td>\n",
       "      <td>0.0</td>\n",
       "      <td>0.0</td>\n",
       "      <td>1.0</td>\n",
       "      <td>8950</td>\n",
       "      <td>9584.0</td>\n",
       "    </tr>\n",
       "    <tr>\n",
       "      <td>2</td>\n",
       "      <td>56.0</td>\n",
       "      <td>66777.0</td>\n",
       "      <td>110.0</td>\n",
       "      <td>0.0</td>\n",
       "      <td>0.0</td>\n",
       "      <td>1600.0</td>\n",
       "      <td>5.0</td>\n",
       "      <td>1090.0</td>\n",
       "      <td>0.0</td>\n",
       "      <td>0.0</td>\n",
       "      <td>1.0</td>\n",
       "      <td>11950</td>\n",
       "      <td>9584.0</td>\n",
       "    </tr>\n",
       "    <tr>\n",
       "      <td>3</td>\n",
       "      <td>39.0</td>\n",
       "      <td>24723.0</td>\n",
       "      <td>110.0</td>\n",
       "      <td>1.0</td>\n",
       "      <td>1.0</td>\n",
       "      <td>1600.0</td>\n",
       "      <td>4.0</td>\n",
       "      <td>1060.0</td>\n",
       "      <td>0.0</td>\n",
       "      <td>0.0</td>\n",
       "      <td>1.0</td>\n",
       "      <td>12695</td>\n",
       "      <td>9584.0</td>\n",
       "    </tr>\n",
       "    <tr>\n",
       "      <td>4</td>\n",
       "      <td>68.0</td>\n",
       "      <td>35000.0</td>\n",
       "      <td>110.0</td>\n",
       "      <td>1.0</td>\n",
       "      <td>0.0</td>\n",
       "      <td>1600.0</td>\n",
       "      <td>3.0</td>\n",
       "      <td>1050.0</td>\n",
       "      <td>0.0</td>\n",
       "      <td>0.0</td>\n",
       "      <td>1.0</td>\n",
       "      <td>8900</td>\n",
       "      <td>9584.0</td>\n",
       "    </tr>\n",
       "  </tbody>\n",
       "</table>\n",
       "</div>"
      ],
      "text/plain": [
       "    Age       KM     HP  MetColor  Automatic      CC  Doors  Weight  \\\n",
       "0  20.0  35000.0   97.0       1.0        0.0  1400.0    5.0  1110.0   \n",
       "1  76.0  89520.0  110.0       1.0        0.0  1600.0    3.0  1050.0   \n",
       "2  56.0  66777.0  110.0       0.0        0.0  1600.0    5.0  1090.0   \n",
       "3  39.0  24723.0  110.0       1.0        1.0  1600.0    4.0  1060.0   \n",
       "4  68.0  35000.0  110.0       1.0        0.0  1600.0    3.0  1050.0   \n",
       "\n",
       "   FuelType_CNG  FuelType_Diesel  FuelType_Petrol  Price  PredictedPrice  \n",
       "0           0.0              0.0              1.0  16500         18033.0  \n",
       "1           0.0              0.0              1.0   8950          9584.0  \n",
       "2           0.0              0.0              1.0  11950          9584.0  \n",
       "3           0.0              0.0              1.0  12695          9584.0  \n",
       "4           0.0              0.0              1.0   8900          9584.0  "
      ]
     },
     "execution_count": 73,
     "metadata": {},
     "output_type": "execute_result"
    },
    {
     "data": {
      "image/png": "[encoded data removed]",
      "text/plain": [
       "<Figure size 432x288 with 1 Axes>"
      ]
     },
     "metadata": {
      "needs_background": "light"
     },
     "output_type": "display_data"
    }
   ],
   "source": [
    "# Decision Trees (Multiple if-else statements!)\n",
    "from sklearn.tree import DecisionTreeRegressor\n",
    "RegModel = DecisionTreeRegressor(max_depth=1,criterion='mse')\n",
    "\n",
    "# Printing all the parameters of Random Forest\n",
    "print(RegModel)\n",
    "\n",
    "# Creating the model on Training Data\n",
    "DT=RegModel.fit(X_train,y_train)\n",
    "prediction=DT.predict(X_test)\n",
    "\n",
    "from sklearn import metrics\n",
    "# Measuring Goodness of fit in Training data\n",
    "print('R2 Value:',metrics.r2_score(y_train, DT.predict(X_train)))\n",
    "\n",
    "# Measuring accuracy on Testing Data\n",
    "print('Accuracy',100- (np.mean(np.abs((y_test - prediction) / y_test)) * 100))\n",
    "\n",
    "# Plotting the feature importance for Top 10 most important columns\n",
    "%matplotlib inline\n",
    "feature_importances = pd.Series(DT.feature_importances_, index=Predictors)\n",
    "feature_importances.nlargest(10).plot(kind='barh')\n",
    "\n",
    "# Printing some sample values of prediction\n",
    "TestingDataResults=pd.DataFrame(data=X_test, columns=Predictors)\n",
    "TestingDataResults[TargetVariable]=y_test\n",
    "TestingDataResults[('Predicted'+TargetVariable)]=np.round(prediction)\n",
    "TestingDataResults.head()"
   ]
  },
  {
   "cell_type": "markdown",
   "metadata": {
    "collapsed": true
   },
   "source": [
    "### Plotting a Decision Tree"
   ]
  },
  {
   "cell_type": "code",
   "execution_count": 74,
   "metadata": {},
   "outputs": [
    {
     "data": {
      "text/plain": [
       "12486320.50942434"
      ]
     },
     "execution_count": 74,
     "metadata": {},
     "output_type": "execute_result"
    }
   ],
   "source": [
    "# Variance number in the root node\n",
    "np.var(y_train)"
   ]
  },
  {
   "cell_type": "code",
   "execution_count": 75,
   "metadata": {},
   "outputs": [
    {
     "data": {
      "text/plain": [
       "10734.245245245245"
      ]
     },
     "execution_count": 75,
     "metadata": {},
     "output_type": "execute_result"
    }
   ],
   "source": [
    "# Mean value number in the root node\n",
    "np.mean(y_train)"
   ]
  },
  {
   "cell_type": "code",
   "execution_count": null,
   "metadata": {},
   "outputs": [],
   "source": []
  },
  {
   "cell_type": "code",
   "execution_count": 77,
   "metadata": {},
   "outputs": [
    {
     "data": {
      "image/png": "[encoded data removed]",
      "text/plain": [
       "<IPython.core.display.Image object>"
      ]
     },
     "execution_count": 77,
     "metadata": {},
     "output_type": "execute_result"
    }
   ],
   "source": [
    "# Load libraries\n",
    "from IPython.display import Image\n",
    "from sklearn import tree\n",
    "import pydotplus\n",
    "\n",
    "# Create DOT data\n",
    "dot_data = tree.export_graphviz(RegModel, out_file=None, feature_names=Predictors, class_names=TargetVariable)\n",
    "\n",
    "# printing the rules\n",
    "#print(dot_data)\n",
    "\n",
    "# Draw graph\n",
    "graph = pydotplus.graph_from_dot_data(dot_data)\n",
    "\n",
    "# Show graph\n",
    "Image(graph.create_png())"
   ]
  },
  {
   "cell_type": "code",
   "execution_count": null,
   "metadata": {
    "collapsed": true
   },
   "outputs": [],
   "source": []
  },
  {
   "cell_type": "markdown",
   "metadata": {},
   "source": [
    "## Random Forest"
   ]
  },
  {
   "cell_type": "code",
   "execution_count": 78,
   "metadata": {},
   "outputs": [
    {
     "name": "stdout",
     "output_type": "stream",
     "text": [
      "RandomForestRegressor(bootstrap=True, criterion='mse', max_depth=2,\n",
      "                      max_features='auto', max_leaf_nodes=None,\n",
      "                      min_impurity_decrease=0.0, min_impurity_split=None,\n",
      "                      min_samples_leaf=1, min_samples_split=2,\n",
      "                      min_weight_fraction_leaf=0.0, n_estimators=100,\n",
      "                      n_jobs=None, oob_score=False, random_state=None,\n",
      "                      verbose=0, warm_start=False)\n",
      "R2 Value: 0.8232472436653424\n",
      "Accuracy 88.87894566283816\n"
     ]
    },
    {
     "data": {
      "text/html": [
       "<div>\n",
       "<style scoped>\n",
       "    .dataframe tbody tr th:only-of-type {\n",
       "        vertical-align: middle;\n",
       "    }\n",
       "\n",
       "    .dataframe tbody tr th {\n",
       "        vertical-align: top;\n",
       "    }\n",
       "\n",
       "    .dataframe thead th {\n",
       "        text-align: right;\n",
       "    }\n",
       "</style>\n",
       "<table border=\"1\" class=\"dataframe\">\n",
       "  <thead>\n",
       "    <tr style=\"text-align: right;\">\n",
       "      <th></th>\n",
       "      <th>Age</th>\n",
       "      <th>KM</th>\n",
       "      <th>HP</th>\n",
       "      <th>MetColor</th>\n",
       "      <th>Automatic</th>\n",
       "      <th>CC</th>\n",
       "      <th>Doors</th>\n",
       "      <th>Weight</th>\n",
       "      <th>FuelType_CNG</th>\n",
       "      <th>FuelType_Diesel</th>\n",
       "      <th>FuelType_Petrol</th>\n",
       "      <th>Price</th>\n",
       "      <th>PredictedPrice</th>\n",
       "    </tr>\n",
       "  </thead>\n",
       "  <tbody>\n",
       "    <tr>\n",
       "      <td>0</td>\n",
       "      <td>20.0</td>\n",
       "      <td>35000.0</td>\n",
       "      <td>97.0</td>\n",
       "      <td>1.0</td>\n",
       "      <td>0.0</td>\n",
       "      <td>1400.0</td>\n",
       "      <td>5.0</td>\n",
       "      <td>1110.0</td>\n",
       "      <td>0.0</td>\n",
       "      <td>0.0</td>\n",
       "      <td>1.0</td>\n",
       "      <td>16500</td>\n",
       "      <td>16954.0</td>\n",
       "    </tr>\n",
       "    <tr>\n",
       "      <td>1</td>\n",
       "      <td>76.0</td>\n",
       "      <td>89520.0</td>\n",
       "      <td>110.0</td>\n",
       "      <td>1.0</td>\n",
       "      <td>0.0</td>\n",
       "      <td>1600.0</td>\n",
       "      <td>3.0</td>\n",
       "      <td>1050.0</td>\n",
       "      <td>0.0</td>\n",
       "      <td>0.0</td>\n",
       "      <td>1.0</td>\n",
       "      <td>8950</td>\n",
       "      <td>8733.0</td>\n",
       "    </tr>\n",
       "    <tr>\n",
       "      <td>2</td>\n",
       "      <td>56.0</td>\n",
       "      <td>66777.0</td>\n",
       "      <td>110.0</td>\n",
       "      <td>0.0</td>\n",
       "      <td>0.0</td>\n",
       "      <td>1600.0</td>\n",
       "      <td>5.0</td>\n",
       "      <td>1090.0</td>\n",
       "      <td>0.0</td>\n",
       "      <td>0.0</td>\n",
       "      <td>1.0</td>\n",
       "      <td>11950</td>\n",
       "      <td>10090.0</td>\n",
       "    </tr>\n",
       "    <tr>\n",
       "      <td>3</td>\n",
       "      <td>39.0</td>\n",
       "      <td>24723.0</td>\n",
       "      <td>110.0</td>\n",
       "      <td>1.0</td>\n",
       "      <td>1.0</td>\n",
       "      <td>1600.0</td>\n",
       "      <td>4.0</td>\n",
       "      <td>1060.0</td>\n",
       "      <td>0.0</td>\n",
       "      <td>0.0</td>\n",
       "      <td>1.0</td>\n",
       "      <td>12695</td>\n",
       "      <td>11541.0</td>\n",
       "    </tr>\n",
       "    <tr>\n",
       "      <td>4</td>\n",
       "      <td>68.0</td>\n",
       "      <td>35000.0</td>\n",
       "      <td>110.0</td>\n",
       "      <td>1.0</td>\n",
       "      <td>0.0</td>\n",
       "      <td>1600.0</td>\n",
       "      <td>3.0</td>\n",
       "      <td>1050.0</td>\n",
       "      <td>0.0</td>\n",
       "      <td>0.0</td>\n",
       "      <td>1.0</td>\n",
       "      <td>8900</td>\n",
       "      <td>8733.0</td>\n",
       "    </tr>\n",
       "  </tbody>\n",
       "</table>\n",
       "</div>"
      ],
      "text/plain": [
       "    Age       KM     HP  MetColor  Automatic      CC  Doors  Weight  \\\n",
       "0  20.0  35000.0   97.0       1.0        0.0  1400.0    5.0  1110.0   \n",
       "1  76.0  89520.0  110.0       1.0        0.0  1600.0    3.0  1050.0   \n",
       "2  56.0  66777.0  110.0       0.0        0.0  1600.0    5.0  1090.0   \n",
       "3  39.0  24723.0  110.0       1.0        1.0  1600.0    4.0  1060.0   \n",
       "4  68.0  35000.0  110.0       1.0        0.0  1600.0    3.0  1050.0   \n",
       "\n",
       "   FuelType_CNG  FuelType_Diesel  FuelType_Petrol  Price  PredictedPrice  \n",
       "0           0.0              0.0              1.0  16500         16954.0  \n",
       "1           0.0              0.0              1.0   8950          8733.0  \n",
       "2           0.0              0.0              1.0  11950         10090.0  \n",
       "3           0.0              0.0              1.0  12695         11541.0  \n",
       "4           0.0              0.0              1.0   8900          8733.0  "
      ]
     },
     "execution_count": 78,
     "metadata": {},
     "output_type": "execute_result"
    },
    {
     "data": {
      "image/png": "[encoded data removed]",
      "text/plain": [
       "<Figure size 432x288 with 1 Axes>"
      ]
     },
     "metadata": {
      "needs_background": "light"
     },
     "output_type": "display_data"
    }
   ],
   "source": [
    "# Random Forest (Bagging of multiple Decision Trees)\n",
    "from sklearn.ensemble import RandomForestRegressor\n",
    "RegModel = RandomForestRegressor(max_depth=2, n_estimators=100,criterion='mse')\n",
    "\n",
    "# Good range for max_depth: 2-10 and n_estimators: 100-1000\n",
    "\n",
    "# Printing all the parameters of Random Forest\n",
    "print(RegModel)\n",
    "\n",
    "# Creating the model on Training Data\n",
    "RF=RegModel.fit(X_train,y_train)\n",
    "prediction=RF.predict(X_test)\n",
    "\n",
    "from sklearn import metrics\n",
    "# Measuring Goodness of fit in Training data\n",
    "print('R2 Value:',metrics.r2_score(y_train, RF.predict(X_train)))\n",
    "\n",
    "# Measuring accuracy on Testing Data\n",
    "print('Accuracy',100- (np.mean(np.abs((y_test - prediction) / y_test)) * 100))\n",
    "\n",
    "# Plotting the feature importance for Top 10 most important columns\n",
    "%matplotlib inline\n",
    "feature_importances = pd.Series(RF.feature_importances_, index=Predictors)\n",
    "feature_importances.nlargest(10).plot(kind='barh')\n",
    "\n",
    "# Printing some sample values of prediction\n",
    "TestingDataResults=pd.DataFrame(data=X_test, columns=Predictors)\n",
    "TestingDataResults[TargetVariable]=y_test\n",
    "TestingDataResults[('Predicted'+TargetVariable)]=np.round(prediction)\n",
    "TestingDataResults.head()"
   ]
  },
  {
   "cell_type": "markdown",
   "metadata": {
    "collapsed": true
   },
   "source": [
    "### Plotting a single Decision tree out of Random Forest"
   ]
  },
  {
   "cell_type": "code",
   "execution_count": 80,
   "metadata": {},
   "outputs": [
    {
     "data": {
      "image/png": "[encoded data removed]",
      "text/plain": [
       "<IPython.core.display.Image object>"
      ]
     },
     "execution_count": 80,
     "metadata": {},
     "output_type": "execute_result"
    }
   ],
   "source": [
    "# Load libraries\n",
    "from IPython.display import Image\n",
    "from sklearn import tree\n",
    "import pydotplus\n",
    "\n",
    "# Create DOT data for the 6th Decision Tree in Random Forest\n",
    "dot_data = tree.export_graphviz(RegModel.estimators_[20] , out_file=None, feature_names=Predictors, class_names=TargetVariable)\n",
    "\n",
    "# Draw graph\n",
    "graph = pydotplus.graph_from_dot_data(dot_data)\n",
    "\n",
    "# Show graph\n",
    "Image(graph.create_png())"
   ]
  },
  {
   "cell_type": "code",
   "execution_count": null,
   "metadata": {
    "collapsed": true
   },
   "outputs": [],
   "source": []
  },
  {
   "cell_type": "markdown",
   "metadata": {},
   "source": [
    "## AdaBoost"
   ]
  },
  {
   "cell_type": "code",
   "execution_count": 81,
   "metadata": {},
   "outputs": [
    {
     "name": "stdout",
     "output_type": "stream",
     "text": [
      "AdaBoostRegressor(base_estimator=DecisionTreeRegressor(criterion='mse',\n",
      "                                                       max_depth=1,\n",
      "                                                       max_features=None,\n",
      "                                                       max_leaf_nodes=None,\n",
      "                                                       min_impurity_decrease=0.0,\n",
      "                                                       min_impurity_split=None,\n",
      "                                                       min_samples_leaf=1,\n",
      "                                                       min_samples_split=2,\n",
      "                                                       min_weight_fraction_leaf=0.0,\n",
      "                                                       presort=False,\n",
      "                                                       random_state=None,\n",
      "                                                       splitter='best'),\n",
      "                  learning_rate=0.1, loss='linear', n_estimators=500,\n",
      "                  random_state=None)\n",
      "R2 Value: 0.703821759136655\n",
      "Accuracy 83.95676591300548\n"
     ]
    },
    {
     "data": {
      "text/html": [
       "<div>\n",
       "<style scoped>\n",
       "    .dataframe tbody tr th:only-of-type {\n",
       "        vertical-align: middle;\n",
       "    }\n",
       "\n",
       "    .dataframe tbody tr th {\n",
       "        vertical-align: top;\n",
       "    }\n",
       "\n",
       "    .dataframe thead th {\n",
       "        text-align: right;\n",
       "    }\n",
       "</style>\n",
       "<table border=\"1\" class=\"dataframe\">\n",
       "  <thead>\n",
       "    <tr style=\"text-align: right;\">\n",
       "      <th></th>\n",
       "      <th>Age</th>\n",
       "      <th>KM</th>\n",
       "      <th>HP</th>\n",
       "      <th>MetColor</th>\n",
       "      <th>Automatic</th>\n",
       "      <th>CC</th>\n",
       "      <th>Doors</th>\n",
       "      <th>Weight</th>\n",
       "      <th>FuelType_CNG</th>\n",
       "      <th>FuelType_Diesel</th>\n",
       "      <th>FuelType_Petrol</th>\n",
       "      <th>Price</th>\n",
       "      <th>PredictedPrice</th>\n",
       "    </tr>\n",
       "  </thead>\n",
       "  <tbody>\n",
       "    <tr>\n",
       "      <td>0</td>\n",
       "      <td>20.0</td>\n",
       "      <td>35000.0</td>\n",
       "      <td>97.0</td>\n",
       "      <td>1.0</td>\n",
       "      <td>0.0</td>\n",
       "      <td>1400.0</td>\n",
       "      <td>5.0</td>\n",
       "      <td>1110.0</td>\n",
       "      <td>0.0</td>\n",
       "      <td>0.0</td>\n",
       "      <td>1.0</td>\n",
       "      <td>16500</td>\n",
       "      <td>18035.0</td>\n",
       "    </tr>\n",
       "    <tr>\n",
       "      <td>1</td>\n",
       "      <td>76.0</td>\n",
       "      <td>89520.0</td>\n",
       "      <td>110.0</td>\n",
       "      <td>1.0</td>\n",
       "      <td>0.0</td>\n",
       "      <td>1600.0</td>\n",
       "      <td>3.0</td>\n",
       "      <td>1050.0</td>\n",
       "      <td>0.0</td>\n",
       "      <td>0.0</td>\n",
       "      <td>1.0</td>\n",
       "      <td>8950</td>\n",
       "      <td>9683.0</td>\n",
       "    </tr>\n",
       "    <tr>\n",
       "      <td>2</td>\n",
       "      <td>56.0</td>\n",
       "      <td>66777.0</td>\n",
       "      <td>110.0</td>\n",
       "      <td>0.0</td>\n",
       "      <td>0.0</td>\n",
       "      <td>1600.0</td>\n",
       "      <td>5.0</td>\n",
       "      <td>1090.0</td>\n",
       "      <td>0.0</td>\n",
       "      <td>0.0</td>\n",
       "      <td>1.0</td>\n",
       "      <td>11950</td>\n",
       "      <td>9683.0</td>\n",
       "    </tr>\n",
       "    <tr>\n",
       "      <td>3</td>\n",
       "      <td>39.0</td>\n",
       "      <td>24723.0</td>\n",
       "      <td>110.0</td>\n",
       "      <td>1.0</td>\n",
       "      <td>1.0</td>\n",
       "      <td>1600.0</td>\n",
       "      <td>4.0</td>\n",
       "      <td>1060.0</td>\n",
       "      <td>0.0</td>\n",
       "      <td>0.0</td>\n",
       "      <td>1.0</td>\n",
       "      <td>12695</td>\n",
       "      <td>10416.0</td>\n",
       "    </tr>\n",
       "    <tr>\n",
       "      <td>4</td>\n",
       "      <td>68.0</td>\n",
       "      <td>35000.0</td>\n",
       "      <td>110.0</td>\n",
       "      <td>1.0</td>\n",
       "      <td>0.0</td>\n",
       "      <td>1600.0</td>\n",
       "      <td>3.0</td>\n",
       "      <td>1050.0</td>\n",
       "      <td>0.0</td>\n",
       "      <td>0.0</td>\n",
       "      <td>1.0</td>\n",
       "      <td>8900</td>\n",
       "      <td>9886.0</td>\n",
       "    </tr>\n",
       "  </tbody>\n",
       "</table>\n",
       "</div>"
      ],
      "text/plain": [
       "    Age       KM     HP  MetColor  Automatic      CC  Doors  Weight  \\\n",
       "0  20.0  35000.0   97.0       1.0        0.0  1400.0    5.0  1110.0   \n",
       "1  76.0  89520.0  110.0       1.0        0.0  1600.0    3.0  1050.0   \n",
       "2  56.0  66777.0  110.0       0.0        0.0  1600.0    5.0  1090.0   \n",
       "3  39.0  24723.0  110.0       1.0        1.0  1600.0    4.0  1060.0   \n",
       "4  68.0  35000.0  110.0       1.0        0.0  1600.0    3.0  1050.0   \n",
       "\n",
       "   FuelType_CNG  FuelType_Diesel  FuelType_Petrol  Price  PredictedPrice  \n",
       "0           0.0              0.0              1.0  16500         18035.0  \n",
       "1           0.0              0.0              1.0   8950          9683.0  \n",
       "2           0.0              0.0              1.0  11950          9683.0  \n",
       "3           0.0              0.0              1.0  12695         10416.0  \n",
       "4           0.0              0.0              1.0   8900          9886.0  "
      ]
     },
     "execution_count": 81,
     "metadata": {},
     "output_type": "execute_result"
    },
    {
     "data": {
      "image/png": "[encoded data removed]",
      "text/plain": [
       "<Figure size 432x288 with 1 Axes>"
      ]
     },
     "metadata": {
      "needs_background": "light"
     },
     "output_type": "display_data"
    }
   ],
   "source": [
    "# Adaboost (Boosting of multiple Decision Trees)\n",
    "from sklearn.ensemble import AdaBoostRegressor\n",
    "from sklearn.tree import DecisionTreeRegressor\n",
    "\n",
    "# Choosing Decision Tree with 1 level as the weak learner\n",
    "DTR=DecisionTreeRegressor(max_depth=1)\n",
    "RegModel = AdaBoostRegressor(n_estimators=500, base_estimator=DTR ,learning_rate=0.1)\n",
    "\n",
    "# Printing all the parameters of Adaboost\n",
    "print(RegModel)\n",
    "\n",
    "# Creating the model on Training Data\n",
    "AB=RegModel.fit(X_train,y_train)\n",
    "prediction=AB.predict(X_test)\n",
    "\n",
    "from sklearn import metrics\n",
    "# Measuring Goodness of fit in Training data\n",
    "print('R2 Value:',metrics.r2_score(y_train, AB.predict(X_train)))\n",
    "\n",
    "# Measuring accuracy on Testing Data\n",
    "print('Accuracy',100- (np.mean(np.abs((y_test - prediction) / y_test)) * 100))\n",
    "\n",
    "# Plotting the feature importance for Top 10 most important columns\n",
    "%matplotlib inline\n",
    "feature_importances = pd.Series(AB.feature_importances_, index=Predictors)\n",
    "feature_importances.nlargest(10).plot(kind='barh')\n",
    "\n",
    "# Printing some sample values of prediction\n",
    "TestingDataResults=pd.DataFrame(data=X_test, columns=Predictors)\n",
    "TestingDataResults[TargetVariable]=y_test\n",
    "TestingDataResults[('Predicted'+TargetVariable)]=np.round(prediction)\n",
    "TestingDataResults.head()"
   ]
  },
  {
   "cell_type": "markdown",
   "metadata": {
    "collapsed": true
   },
   "source": [
    "### Plotting a single Decision tree out of Adaboost"
   ]
  },
  {
   "cell_type": "code",
   "execution_count": 83,
   "metadata": {},
   "outputs": [
    {
     "data": {
      "image/png": "[encoded data removed]",
      "text/plain": [
       "<IPython.core.display.Image object>"
      ]
     },
     "execution_count": 83,
     "metadata": {},
     "output_type": "execute_result"
    }
   ],
   "source": [
    "# Load libraries\n",
    "from IPython.display import Image\n",
    "from sklearn import tree\n",
    "import pydotplus\n",
    "\n",
    "# Create DOT data for the 10th Decision Tree in AdaBoost\n",
    "dot_data = tree.export_graphviz(RegModel.estimators_[8] , out_file=None, feature_names=Predictors, class_names=TargetVariable)\n",
    "\n",
    "# Draw graph\n",
    "graph = pydotplus.graph_from_dot_data(dot_data)\n",
    "\n",
    "# Show graph\n",
    "Image(graph.create_png())"
   ]
  },
  {
   "cell_type": "code",
   "execution_count": null,
   "metadata": {
    "collapsed": true
   },
   "outputs": [],
   "source": [
    "# install XGBoost library\n",
    "# !pip install xgboost"
   ]
  },
  {
   "cell_type": "code",
   "execution_count": null,
   "metadata": {},
   "outputs": [],
   "source": [
    "!pip install xgboost"
   ]
  },
  {
   "cell_type": "markdown",
   "metadata": {},
   "source": [
    "## XGBoost"
   ]
  },
  {
   "cell_type": "code",
   "execution_count": 46,
   "metadata": {},
   "outputs": [
    {
     "name": "stdout",
     "output_type": "stream",
     "text": [
      "XGBRegressor(base_score=0.5, booster='gbtree', colsample_bylevel=1,\n",
      "             colsample_bytree=1, gamma=0, learning_rate=0.1, max_delta_step=0,\n",
      "             max_depth=2, min_child_weight=1, missing=None, n_estimators=1000,\n",
      "             n_jobs=1, nthread=None, objective='reg:linear', random_state=0,\n",
      "             reg_alpha=0, reg_lambda=1, scale_pos_weight=1, seed=None,\n",
      "             silent=True, subsample=1)\n",
      "R2 Value: 0.9604767661810563\n",
      "Accuracy 92.12177122642234\n"
     ]
    },
    {
     "data": {
      "text/html": [
       "<div>\n",
       "<style scoped>\n",
       "    .dataframe tbody tr th:only-of-type {\n",
       "        vertical-align: middle;\n",
       "    }\n",
       "\n",
       "    .dataframe tbody tr th {\n",
       "        vertical-align: top;\n",
       "    }\n",
       "\n",
       "    .dataframe thead th {\n",
       "        text-align: right;\n",
       "    }\n",
       "</style>\n",
       "<table border=\"1\" class=\"dataframe\">\n",
       "  <thead>\n",
       "    <tr style=\"text-align: right;\">\n",
       "      <th></th>\n",
       "      <th>Age</th>\n",
       "      <th>KM</th>\n",
       "      <th>HP</th>\n",
       "      <th>MetColor</th>\n",
       "      <th>Automatic</th>\n",
       "      <th>CC</th>\n",
       "      <th>Doors</th>\n",
       "      <th>Weight</th>\n",
       "      <th>FuelType_CNG</th>\n",
       "      <th>FuelType_Diesel</th>\n",
       "      <th>FuelType_Petrol</th>\n",
       "      <th>Price</th>\n",
       "      <th>PredictedPrice</th>\n",
       "    </tr>\n",
       "  </thead>\n",
       "  <tbody>\n",
       "    <tr>\n",
       "      <td>0</td>\n",
       "      <td>20.0</td>\n",
       "      <td>35000.0</td>\n",
       "      <td>97.0</td>\n",
       "      <td>1.0</td>\n",
       "      <td>0.0</td>\n",
       "      <td>1400.0</td>\n",
       "      <td>5.0</td>\n",
       "      <td>1110.0</td>\n",
       "      <td>0.0</td>\n",
       "      <td>0.0</td>\n",
       "      <td>1.0</td>\n",
       "      <td>16500</td>\n",
       "      <td>16441.0</td>\n",
       "    </tr>\n",
       "    <tr>\n",
       "      <td>1</td>\n",
       "      <td>76.0</td>\n",
       "      <td>89520.0</td>\n",
       "      <td>110.0</td>\n",
       "      <td>1.0</td>\n",
       "      <td>0.0</td>\n",
       "      <td>1600.0</td>\n",
       "      <td>3.0</td>\n",
       "      <td>1050.0</td>\n",
       "      <td>0.0</td>\n",
       "      <td>0.0</td>\n",
       "      <td>1.0</td>\n",
       "      <td>8950</td>\n",
       "      <td>7960.0</td>\n",
       "    </tr>\n",
       "    <tr>\n",
       "      <td>2</td>\n",
       "      <td>56.0</td>\n",
       "      <td>66777.0</td>\n",
       "      <td>110.0</td>\n",
       "      <td>0.0</td>\n",
       "      <td>0.0</td>\n",
       "      <td>1600.0</td>\n",
       "      <td>5.0</td>\n",
       "      <td>1090.0</td>\n",
       "      <td>0.0</td>\n",
       "      <td>0.0</td>\n",
       "      <td>1.0</td>\n",
       "      <td>11950</td>\n",
       "      <td>11555.0</td>\n",
       "    </tr>\n",
       "    <tr>\n",
       "      <td>3</td>\n",
       "      <td>39.0</td>\n",
       "      <td>24723.0</td>\n",
       "      <td>110.0</td>\n",
       "      <td>1.0</td>\n",
       "      <td>1.0</td>\n",
       "      <td>1600.0</td>\n",
       "      <td>4.0</td>\n",
       "      <td>1060.0</td>\n",
       "      <td>0.0</td>\n",
       "      <td>0.0</td>\n",
       "      <td>1.0</td>\n",
       "      <td>12695</td>\n",
       "      <td>13595.0</td>\n",
       "    </tr>\n",
       "    <tr>\n",
       "      <td>4</td>\n",
       "      <td>68.0</td>\n",
       "      <td>35000.0</td>\n",
       "      <td>110.0</td>\n",
       "      <td>1.0</td>\n",
       "      <td>0.0</td>\n",
       "      <td>1600.0</td>\n",
       "      <td>3.0</td>\n",
       "      <td>1050.0</td>\n",
       "      <td>0.0</td>\n",
       "      <td>0.0</td>\n",
       "      <td>1.0</td>\n",
       "      <td>8900</td>\n",
       "      <td>9924.0</td>\n",
       "    </tr>\n",
       "  </tbody>\n",
       "</table>\n",
       "</div>"
      ],
      "text/plain": [
       "    Age       KM     HP  MetColor  Automatic      CC  Doors  Weight  \\\n",
       "0  20.0  35000.0   97.0       1.0        0.0  1400.0    5.0  1110.0   \n",
       "1  76.0  89520.0  110.0       1.0        0.0  1600.0    3.0  1050.0   \n",
       "2  56.0  66777.0  110.0       0.0        0.0  1600.0    5.0  1090.0   \n",
       "3  39.0  24723.0  110.0       1.0        1.0  1600.0    4.0  1060.0   \n",
       "4  68.0  35000.0  110.0       1.0        0.0  1600.0    3.0  1050.0   \n",
       "\n",
       "   FuelType_CNG  FuelType_Diesel  FuelType_Petrol  Price  PredictedPrice  \n",
       "0           0.0              0.0              1.0  16500         16441.0  \n",
       "1           0.0              0.0              1.0   8950          7960.0  \n",
       "2           0.0              0.0              1.0  11950         11555.0  \n",
       "3           0.0              0.0              1.0  12695         13595.0  \n",
       "4           0.0              0.0              1.0   8900          9924.0  "
      ]
     },
     "execution_count": 46,
     "metadata": {},
     "output_type": "execute_result"
    },
    {
     "data": {
      "image/png": "[encoded data removed]",
      "text/plain": [
       "<Figure size 432x288 with 1 Axes>"
      ]
     },
     "metadata": {
      "needs_background": "light"
     },
     "output_type": "display_data"
    }
   ],
   "source": [
    "# Xtreme Gradient Boosting (XGBoost)\n",
    "from xgboost import XGBRegressor\n",
    "RegModel=XGBRegressor(max_depth=2, learning_rate=0.1, n_estimators=1000, objective='reg:linear', booster='gbtree')\n",
    "\n",
    "# Printing all the parameters of XGBoost\n",
    "print(RegModel)\n",
    "\n",
    "# Creating the model on Training Data\n",
    "XGB=RegModel.fit(X_train,y_train)\n",
    "prediction=XGB.predict(X_test)\n",
    "\n",
    "from sklearn import metrics\n",
    "# Measuring Goodness of fit in Training data\n",
    "print('R2 Value:',metrics.r2_score(y_train, XGB.predict(X_train)))\n",
    "\n",
    "# Measuring accuracy on Testing Data\n",
    "print('Accuracy',100- (np.mean(np.abs((y_test - prediction) / y_test)) * 100))\n",
    "\n",
    "# Plotting the feature importance for Top 10 most important columns\n",
    "%matplotlib inline\n",
    "feature_importances = pd.Series(XGB.feature_importances_, index=Predictors)\n",
    "feature_importances.nlargest(10).plot(kind='barh')\n",
    "\n",
    "# Printing some sample values of prediction\n",
    "TestingDataResults=pd.DataFrame(data=X_test, columns=Predictors)\n",
    "TestingDataResults[TargetVariable]=y_test\n",
    "TestingDataResults[('Predicted'+TargetVariable)]=np.round(prediction)\n",
    "TestingDataResults.head()"
   ]
  },
  {
   "cell_type": "markdown",
   "metadata": {},
   "source": [
    "### Plotting a single Decision tree out of XGBoost\n",
    "XGboost is not yet implemented under graphviz, hence we use its own method to plot it"
   ]
  },
  {
   "cell_type": "code",
   "execution_count": null,
   "metadata": {},
   "outputs": [],
   "source": []
  },
  {
   "cell_type": "code",
   "execution_count": 48,
   "metadata": {},
   "outputs": [
    {
     "data": {
      "text/plain": [
       "<matplotlib.axes._subplots.AxesSubplot at 0x1a1b5133d0>"
      ]
     },
     "execution_count": 48,
     "metadata": {},
     "output_type": "execute_result"
    },
    {
     "data": {
      "image/png": "[encoded data removed]",
      "text/plain": [
       "<Figure size 1440x576 with 1 Axes>"
      ]
     },
     "metadata": {
      "needs_background": "light"
     },
     "output_type": "display_data"
    }
   ],
   "source": [
    "from xgboost import plot_tree\n",
    "import matplotlib.pyplot as plt\n",
    "fig, ax = plt.subplots(figsize=(20, 8))\n",
    "plot_tree(XGB, num_trees=500, ax=ax)"
   ]
  },
  {
   "cell_type": "code",
   "execution_count": null,
   "metadata": {
    "collapsed": true
   },
   "outputs": [],
   "source": []
  },
  {
   "cell_type": "markdown",
   "metadata": {},
   "source": [
    "## KNN"
   ]
  },
  {
   "cell_type": "code",
   "execution_count": 49,
   "metadata": {},
   "outputs": [
    {
     "name": "stdout",
     "output_type": "stream",
     "text": [
      "KNeighborsRegressor(algorithm='auto', leaf_size=30, metric='minkowski',\n",
      "                    metric_params=None, n_jobs=None, n_neighbors=10, p=2,\n",
      "                    weights='uniform')\n",
      "R2 Value: 0.5661814416172923\n",
      "Accuracy 81.14190304414777\n"
     ]
    },
    {
     "data": {
      "text/html": [
       "<div>\n",
       "<style scoped>\n",
       "    .dataframe tbody tr th:only-of-type {\n",
       "        vertical-align: middle;\n",
       "    }\n",
       "\n",
       "    .dataframe tbody tr th {\n",
       "        vertical-align: top;\n",
       "    }\n",
       "\n",
       "    .dataframe thead th {\n",
       "        text-align: right;\n",
       "    }\n",
       "</style>\n",
       "<table border=\"1\" class=\"dataframe\">\n",
       "  <thead>\n",
       "    <tr style=\"text-align: right;\">\n",
       "      <th></th>\n",
       "      <th>Age</th>\n",
       "      <th>KM</th>\n",
       "      <th>HP</th>\n",
       "      <th>MetColor</th>\n",
       "      <th>Automatic</th>\n",
       "      <th>CC</th>\n",
       "      <th>Doors</th>\n",
       "      <th>Weight</th>\n",
       "      <th>FuelType_CNG</th>\n",
       "      <th>FuelType_Diesel</th>\n",
       "      <th>FuelType_Petrol</th>\n",
       "      <th>Price</th>\n",
       "      <th>PredictedPrice</th>\n",
       "    </tr>\n",
       "  </thead>\n",
       "  <tbody>\n",
       "    <tr>\n",
       "      <td>0</td>\n",
       "      <td>20.0</td>\n",
       "      <td>35000.0</td>\n",
       "      <td>97.0</td>\n",
       "      <td>1.0</td>\n",
       "      <td>0.0</td>\n",
       "      <td>1400.0</td>\n",
       "      <td>5.0</td>\n",
       "      <td>1110.0</td>\n",
       "      <td>0.0</td>\n",
       "      <td>0.0</td>\n",
       "      <td>1.0</td>\n",
       "      <td>16500</td>\n",
       "      <td>13228.0</td>\n",
       "    </tr>\n",
       "    <tr>\n",
       "      <td>1</td>\n",
       "      <td>76.0</td>\n",
       "      <td>89520.0</td>\n",
       "      <td>110.0</td>\n",
       "      <td>1.0</td>\n",
       "      <td>0.0</td>\n",
       "      <td>1600.0</td>\n",
       "      <td>3.0</td>\n",
       "      <td>1050.0</td>\n",
       "      <td>0.0</td>\n",
       "      <td>0.0</td>\n",
       "      <td>1.0</td>\n",
       "      <td>8950</td>\n",
       "      <td>9359.0</td>\n",
       "    </tr>\n",
       "    <tr>\n",
       "      <td>2</td>\n",
       "      <td>56.0</td>\n",
       "      <td>66777.0</td>\n",
       "      <td>110.0</td>\n",
       "      <td>0.0</td>\n",
       "      <td>0.0</td>\n",
       "      <td>1600.0</td>\n",
       "      <td>5.0</td>\n",
       "      <td>1090.0</td>\n",
       "      <td>0.0</td>\n",
       "      <td>0.0</td>\n",
       "      <td>1.0</td>\n",
       "      <td>11950</td>\n",
       "      <td>9625.0</td>\n",
       "    </tr>\n",
       "    <tr>\n",
       "      <td>3</td>\n",
       "      <td>39.0</td>\n",
       "      <td>24723.0</td>\n",
       "      <td>110.0</td>\n",
       "      <td>1.0</td>\n",
       "      <td>1.0</td>\n",
       "      <td>1600.0</td>\n",
       "      <td>4.0</td>\n",
       "      <td>1060.0</td>\n",
       "      <td>0.0</td>\n",
       "      <td>0.0</td>\n",
       "      <td>1.0</td>\n",
       "      <td>12695</td>\n",
       "      <td>15204.0</td>\n",
       "    </tr>\n",
       "    <tr>\n",
       "      <td>4</td>\n",
       "      <td>68.0</td>\n",
       "      <td>35000.0</td>\n",
       "      <td>110.0</td>\n",
       "      <td>1.0</td>\n",
       "      <td>0.0</td>\n",
       "      <td>1600.0</td>\n",
       "      <td>3.0</td>\n",
       "      <td>1050.0</td>\n",
       "      <td>0.0</td>\n",
       "      <td>0.0</td>\n",
       "      <td>1.0</td>\n",
       "      <td>8900</td>\n",
       "      <td>13228.0</td>\n",
       "    </tr>\n",
       "  </tbody>\n",
       "</table>\n",
       "</div>"
      ],
      "text/plain": [
       "    Age       KM     HP  MetColor  Automatic      CC  Doors  Weight  \\\n",
       "0  20.0  35000.0   97.0       1.0        0.0  1400.0    5.0  1110.0   \n",
       "1  76.0  89520.0  110.0       1.0        0.0  1600.0    3.0  1050.0   \n",
       "2  56.0  66777.0  110.0       0.0        0.0  1600.0    5.0  1090.0   \n",
       "3  39.0  24723.0  110.0       1.0        1.0  1600.0    4.0  1060.0   \n",
       "4  68.0  35000.0  110.0       1.0        0.0  1600.0    3.0  1050.0   \n",
       "\n",
       "   FuelType_CNG  FuelType_Diesel  FuelType_Petrol  Price  PredictedPrice  \n",
       "0           0.0              0.0              1.0  16500         13228.0  \n",
       "1           0.0              0.0              1.0   8950          9359.0  \n",
       "2           0.0              0.0              1.0  11950          9625.0  \n",
       "3           0.0              0.0              1.0  12695         15204.0  \n",
       "4           0.0              0.0              1.0   8900         13228.0  "
      ]
     },
     "execution_count": 49,
     "metadata": {},
     "output_type": "execute_result"
    }
   ],
   "source": [
    "# K-Nearest Neighbor(KNN)\n",
    "from sklearn.neighbors import KNeighborsRegressor\n",
    "RegModel = KNeighborsRegressor(n_neighbors=10)\n",
    "\n",
    "# Printing all the parameters of KNN\n",
    "print(RegModel)\n",
    "\n",
    "# Creating the model on Training Data\n",
    "KNN=RegModel.fit(X_train,y_train)\n",
    "prediction=KNN.predict(X_test)\n",
    "\n",
    "from sklearn import metrics\n",
    "# Measuring Goodness of fit in Training data\n",
    "print('R2 Value:',metrics.r2_score(y_train, KNN.predict(X_train)))\n",
    "\n",
    "# Measuring accuracy on Testing Data\n",
    "print('Accuracy',100- (np.mean(np.abs((y_test - prediction) / y_test)) * 100))\n",
    "\n",
    "# Plotting the feature importance for Top 10 most important columns\n",
    "# There is no built-in method to get feature importance in KNN\n",
    "\n",
    "# Printing some sample values of prediction\n",
    "TestingDataResults=pd.DataFrame(data=X_test, columns=Predictors)\n",
    "TestingDataResults[TargetVariable]=y_test\n",
    "TestingDataResults[('Predicted'+TargetVariable)]=np.round(prediction)\n",
    "TestingDataResults.head()"
   ]
  },
  {
   "cell_type": "code",
   "execution_count": null,
   "metadata": {
    "collapsed": true
   },
   "outputs": [],
   "source": []
  },
  {
   "cell_type": "code",
   "execution_count": null,
   "metadata": {
    "collapsed": true
   },
   "outputs": [],
   "source": []
  },
  {
   "cell_type": "code",
   "execution_count": null,
   "metadata": {
    "collapsed": true
   },
   "outputs": [],
   "source": []
  }
 ],
 "metadata": {
  "kernelspec": {
   "display_name": "Python 3 (ipykernel)",
   "language": "python",
   "name": "python3"
  },
  "language_info": {
   "codemirror_mode": {
    "name": "ipython",
    "version": 3
   },
   "file_extension": ".py",
   "mimetype": "text/x-python",
   "name": "python",
   "nbconvert_exporter": "python",
   "pygments_lexer": "ipython3",
   "version": "3.11.5"
  }
 },
 "nbformat": 4,
 "nbformat_minor": 2
}
